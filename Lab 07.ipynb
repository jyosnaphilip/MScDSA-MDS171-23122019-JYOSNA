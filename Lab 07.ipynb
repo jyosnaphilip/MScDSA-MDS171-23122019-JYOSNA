{
 "cells": [
  {
   "cell_type": "markdown",
   "metadata": {},
   "source": [
    "# My Menu Driven Restaurant"
   ]
  },
  {
   "cell_type": "code",
   "execution_count": 80,
   "metadata": {},
   "outputs": [
    {
     "name": "stdout",
     "output_type": "stream",
     "text": [
      "[['dal rice', 60], ['biriyani', 100], ['tea', 10], ['ghee dosa', 50], ['dosa', 40]]\n"
     ]
    }
   ],
   "source": [
    "import random\n",
    "menu=[[\"dal rice\",60],[\"biriyani\",100],[\"tea\",10],[\"ghee dosa\",50],[\"dosa\",40]]\n",
    "print(menu)\n",
    "item={}\n",
    "\n",
    "#each element is a dict \n",
    "orderlst=[]   \n",
    "#stores each order in a dictionary, each dict has order id and itemlst\n",
    "pricelst=[]\n",
    "order={}\n",
    "\n"
   ]
  },
  {
   "cell_type": "code",
   "execution_count": 81,
   "metadata": {},
   "outputs": [],
   "source": [
    "def newOrder():\n",
    "    current_order=[]\n",
    "    orderid=\"\"\n",
    "    for i in range(0,5):\n",
    "        a=str(random.randint(0,9))      \n",
    "        orderid=orderid+a\n",
    "       \n",
    "    grand_total=0    #variable to store total bill amount\n",
    "    \n",
    "   \n",
    "    itemno=int(input(\"how many items will you need?\"))\n",
    "    for i in range(0,itemno):\n",
    "        i=int(input(\"enter item number:\"))\n",
    "        q=int(input(\"enter quantity:\"))\n",
    "        \n",
    "        total=(menu[i-1])[1]*q    #item no -1 because index is one less\n",
    "        grand_total+=total\n",
    "        current_order.append({\"item number\":i,\"quantity\":q})\n",
    "            \n",
    "    order.update({\"orderid\":orderid ,\"items\":current_order})\n",
    "    orderlst.append(order)\n",
    "    \n",
    "    print(\"order added\")\n",
    "    print(\"orderid:\",orderid)            \n",
    "    print(\"item\",\"\\tquantity\")\n",
    "    for i in current_order:\n",
    "        print(i[\"item number\"],\"\\t\",i[\"quantity\"])\n",
    "    print(\"total price\",grand_total)\n",
    "    pricelst.append({orderid:grand_total})\n",
    "    return order\n",
    "     "
   ]
  },
  {
   "cell_type": "code",
   "execution_count": 84,
   "metadata": {},
   "outputs": [],
   "source": [
    "def viewOrder():\n",
    "    print(\"*\"*30)\n",
    "    print(\"all orders\")\n",
    "    print(\"*\"*30)\n",
    "\n",
    "    print(\"item\\tquantity\\tunit price\")\n",
    "    print(\"*\"*30)\n",
    "    print(orderlst)\n",
    "    for order in orderlst:\n",
    "        print(\"orderid:\",order[\"orderid\"])\n",
    "        print(order[\"items\"])\n",
    "         #   print(j)\n",
    "          #  print((menu[int(j[\"item number\"])-1])[0]+\"\\t\"+j[\"quantity\"]+(menu[int(j[\"item number\"])-1])[1])\n",
    "    print(\"*\"*30)        "
   ]
  },
  {
   "cell_type": "code",
   "execution_count": 85,
   "metadata": {},
   "outputs": [
    {
     "name": "stdout",
     "output_type": "stream",
     "text": [
      "1.Create new Order\n",
      "2. View Orders\n",
      "3.exit\n",
      "******************************\n",
      "all orders\n",
      "******************************\n",
      "item\tquantity\tunit price\n",
      "******************************\n",
      "[{'orderid': '99593', 'items': [{'item number': 2, 'quantity': 3}, {'item number': 2, 'quantity': 4}, {'item number': 3, 'quantity': 4}, {'item number': 3, 'quantity': 4}]}, {'orderid': '99593', 'items': [{'item number': 2, 'quantity': 3}, {'item number': 2, 'quantity': 4}, {'item number': 3, 'quantity': 4}, {'item number': 3, 'quantity': 4}]}]\n",
      "orderid: 99593\n",
      "[{'item number': 2, 'quantity': 3}, {'item number': 2, 'quantity': 4}, {'item number': 3, 'quantity': 4}, {'item number': 3, 'quantity': 4}]\n",
      "orderid: 99593\n",
      "[{'item number': 2, 'quantity': 3}, {'item number': 2, 'quantity': 4}, {'item number': 3, 'quantity': 4}, {'item number': 3, 'quantity': 4}]\n",
      "******************************\n",
      "1.Create new Order\n",
      "2. View Orders\n",
      "3.exit\n"
     ]
    }
   ],
   "source": [
    "while True:                     #menu\n",
    "    print(\"1.Create new Order\")\n",
    "    print(\"2. View Orders\")\n",
    "    print(\"3.exit\")\n",
    "    choice=input(\"enter your choice:\")\n",
    "    if choice=='1':\n",
    "        newOrder()\n",
    "    elif choice=='2':\n",
    "        viewOrder()\n",
    "    elif choice=='3':\n",
    "        break\n",
    "    else:\n",
    "        print(\"Enter a valid option!\")"
   ]
  },
  {
   "cell_type": "code",
   "execution_count": 71,
   "metadata": {},
   "outputs": [
    {
     "name": "stdout",
     "output_type": "stream",
     "text": [
      "total earnings in a day\n",
      "500\n"
     ]
    }
   ],
   "source": [
    "#insight\n",
    "print(\"total earnings in a day\")\n",
    "s=0\n",
    "for i in pricelst:\n",
    "    a=i.values()\n",
    "    for j in a:\n",
    "        s+=int(j)\n",
    "print(s)"
   ]
  },
  {
   "cell_type": "code",
   "execution_count": null,
   "metadata": {},
   "outputs": [],
   "source": []
  }
 ],
 "metadata": {
  "kernelspec": {
   "display_name": "Python 3",
   "language": "python",
   "name": "python3"
  },
  "language_info": {
   "codemirror_mode": {
    "name": "ipython",
    "version": 3
   },
   "file_extension": ".py",
   "mimetype": "text/x-python",
   "name": "python",
   "nbconvert_exporter": "python",
   "pygments_lexer": "ipython3",
   "version": "3.11.5"
  },
  "orig_nbformat": 4
 },
 "nbformat": 4,
 "nbformat_minor": 2
}

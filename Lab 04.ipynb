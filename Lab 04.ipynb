{
 "cells": [
  {
   "cell_type": "markdown",
   "metadata": {},
   "source": [
    "Lab 04: A Taste of Success: The Restaurant Management System"
   ]
  },
  {
   "cell_type": "code",
   "execution_count": 13,
   "metadata": {},
   "outputs": [],
   "source": [
    "file=open(\"restaurant management system.txt\",\"w+\")   #open a new file to store restaurant order details\n",
    "file.write(\"\\t\\tCULINARY DELIGHTS\\n\")\n",
    "file.close()  #closed\n"
   ]
  },
  {
   "cell_type": "code",
   "execution_count": 14,
   "metadata": {},
   "outputs": [],
   "source": [
    "def add_item(item,quantity,price):\n",
    "    #fn to add all details\n",
    "    file_add=open(\"restaurant management system.txt\",\"a+\")\n",
    "    file_add.write(\"\\nitem:\"+item)\n",
    "    file_add.write(\"\\nquantity:\"+str(quantity))\n",
    "    file_add.write(\"\\nprice:\"+str(price))\n",
    "    file_add.write(\"\\nnet amount=\")\n",
    "    net_amt=str(quantity*price)\n",
    "    file_add.write(\"\"+net_amt)   #calculation of net amount\n",
    "    file_add.close()\n",
    "    return True\n",
    "\n"
   ]
  },
  {
   "cell_type": "code",
   "execution_count": 25,
   "metadata": {},
   "outputs": [
    {
     "name": "stdout",
     "output_type": "stream",
     "text": [
      "order added!\n"
     ]
    }
   ],
   "source": [
    "item_=input(\"\\nenter item name:\")   #taking user input\n",
    "_quantity=int(input(\"\\nenter quantity:\"))\n",
    "_price= int(input(\"\\nprice:\"))\n",
    "ret=add_item(item_,_quantity,_price)   #calling fn to add items\n",
    "if ret:    #validate addition\n",
    "    print(\"order added!\")\n",
    "else:\n",
    "    print(\"error occured\")\n",
    "\n"
   ]
  },
  {
   "cell_type": "code",
   "execution_count": 21,
   "metadata": {},
   "outputs": [],
   "source": [
    "#analysis to find total earnings in a day and total items sold\n",
    "def insight():\n",
    "    _analyse=open(\"restaurant management system.txt\",\"+r\")\n",
    "    gross_earnings=0  #gross amount variable initialised\n",
    "    gross_items=0\n",
    "    for line in _analyse.readlines():\n",
    "        if \"net\" in line:  #getting line with net\n",
    "            store=line.split(\"=\")    #splitting lines\n",
    "            amt=int(store[1])       #typecasting amount\n",
    "            gross_earnings+=amt  \n",
    "        if \"quantity\" in line:\n",
    "            store=line.split(\":\")    #splitting lines\n",
    "            num=int(store[1])       #typecasting amount\n",
    "            gross_items+=num      \n",
    "    print(\"gross earnings in a day:\",gross_earnings)\n",
    "    print(\"items sold in a day:\",gross_items)        \n"
   ]
  },
  {
   "cell_type": "code",
   "execution_count": 22,
   "metadata": {},
   "outputs": [
    {
     "name": "stdout",
     "output_type": "stream",
     "text": [
      "gross earnings in a day: 870\n",
      "items sold in a day: 11\n"
     ]
    }
   ],
   "source": [
    "insight()"
   ]
  },
  {
   "cell_type": "code",
   "execution_count": 24,
   "metadata": {},
   "outputs": [
    {
     "name": "stdout",
     "output_type": "stream",
     "text": [
      "gross earnings in a day: 1470\n",
      "items sold in a day: 23\n"
     ]
    }
   ],
   "source": [
    "insight()"
   ]
  },
  {
   "cell_type": "code",
   "execution_count": 26,
   "metadata": {},
   "outputs": [
    {
     "name": "stdout",
     "output_type": "stream",
     "text": [
      "gross earnings in a day: 1720\n",
      "items sold in a day: 28\n"
     ]
    }
   ],
   "source": [
    "insight()"
   ]
  },
  {
   "cell_type": "code",
   "execution_count": null,
   "metadata": {},
   "outputs": [],
   "source": []
  }
 ],
 "metadata": {
  "kernelspec": {
   "display_name": "Python 3",
   "language": "python",
   "name": "python3"
  },
  "language_info": {
   "codemirror_mode": {
    "name": "ipython",
    "version": 3
   },
   "file_extension": ".py",
   "mimetype": "text/x-python",
   "name": "python",
   "nbconvert_exporter": "python",
   "pygments_lexer": "ipython3",
   "version": "3.11.3"
  },
  "orig_nbformat": 4
 },
 "nbformat": 4,
 "nbformat_minor": 2
}

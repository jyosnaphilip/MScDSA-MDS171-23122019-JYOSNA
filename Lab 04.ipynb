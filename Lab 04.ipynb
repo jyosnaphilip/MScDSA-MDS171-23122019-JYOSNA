{
 "cells": [
  {
   "cell_type": "markdown",
   "metadata": {},
   "source": [
    "Lab 04: A Taste of Success: The Restaurant Management System"
   ]
  },
  {
   "cell_type": "code",
   "execution_count": 11,
   "metadata": {},
   "outputs": [],
   "source": [
    "file=open(\"restaurant management system.txt\",\"w+\")   #open a new file to store restaurant order details\n",
    "file.write(\"\\t\\tCULINARY DELIGHTS\\n\")\n",
    "file.close()  #closed\n"
   ]
  },
  {
   "cell_type": "code",
   "execution_count": 12,
   "metadata": {},
   "outputs": [],
   "source": [
    "def add_item(item,quantity,price):   #fn to add all details\n",
    "    file_add=open(\"restaurant management system.txt\",\"a+\")\n",
    "    file_add.write(\"\\nitem:\"+item)\n",
    "    file_add.write(\"\\nquantity:\"+str(quantity))\n",
    "    file_add.write(\"\\nprice:\"+str(price))\n",
    "    file_add.write(\"\\nnet amount:\")\n",
    "    net_amt=str(quantity*price)\n",
    "    file_add.write(\"\"+net_amt)   #calculation of net amount\n",
    "    file_add.close()\n",
    "    return True\n",
    "\n"
   ]
  },
  {
   "cell_type": "code",
   "execution_count": 13,
   "metadata": {},
   "outputs": [
    {
     "data": {
      "text/plain": [
       "True"
      ]
     },
     "execution_count": 13,
     "metadata": {},
     "output_type": "execute_result"
    }
   ],
   "source": [
    "_item=input(\"\\nenter item name:\")   #taking user input\n",
    "_quantity=int(input(\"\\nenter quantity:\"))\n",
    "_price=int(input(\"\\nprice:\"))\n",
    "ret=add_item(_item,_quantity,_price)   #calling fn to add items\n",
    "if ret:\n",
    "    print(\"order added!\")\n",
    "else:\n",
    "    print(\"error occured\")\n",
    "\n"
   ]
  },
  {
   "cell_type": "code",
   "execution_count": null,
   "metadata": {},
   "outputs": [],
   "source": []
  }
 ],
 "metadata": {
  "kernelspec": {
   "display_name": "Python 3",
   "language": "python",
   "name": "python3"
  },
  "language_info": {
   "codemirror_mode": {
    "name": "ipython",
    "version": 3
   },
   "file_extension": ".py",
   "mimetype": "text/x-python",
   "name": "python",
   "nbconvert_exporter": "python",
   "pygments_lexer": "ipython3",
   "version": "3.11.3"
  },
  "orig_nbformat": 4
 },
 "nbformat": 4,
 "nbformat_minor": 2
}

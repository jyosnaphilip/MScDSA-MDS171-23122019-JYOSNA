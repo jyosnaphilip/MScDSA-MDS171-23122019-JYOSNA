{
 "cells": [
  {
   "cell_type": "markdown",
   "metadata": {},
   "source": [
    "search,pop,append,slice"
   ]
  },
  {
   "cell_type": "code",
   "execution_count": 1,
   "metadata": {},
   "outputs": [
    {
     "name": "stdout",
     "output_type": "stream",
     "text": [
      "two is present\n"
     ]
    }
   ],
   "source": [
    "listex=[\"one\",\"two\",\"three\"]\n",
    "if \"two\" in listex:\n",
    "    print(\"two is present\")"
   ]
  },
  {
   "cell_type": "markdown",
   "metadata": {},
   "source": [
    "webscraping :searching for specific info from many websites. and also for testing websites.\n",
    "this can be automated.\n",
    "use this in data collection and data cleaning.\n",
    "extend list with another list.\n",
    "concatenate lists like strings in print fn \n",
    "or use append"
   ]
  },
  {
   "cell_type": "code",
   "execution_count": null,
   "metadata": {},
   "outputs": [],
   "source": []
  }
 ],
 "metadata": {
  "kernelspec": {
   "display_name": "Python 3",
   "language": "python",
   "name": "python3"
  },
  "language_info": {
   "codemirror_mode": {
    "name": "ipython",
    "version": 3
   },
   "file_extension": ".py",
   "mimetype": "text/x-python",
   "name": "python",
   "nbconvert_exporter": "python",
   "pygments_lexer": "ipython3",
   "version": "3.11.3"
  },
  "orig_nbformat": 4
 },
 "nbformat": 4,
 "nbformat_minor": 2
}

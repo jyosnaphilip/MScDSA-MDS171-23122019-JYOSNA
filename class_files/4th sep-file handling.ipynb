{
 "cells": [
  {
   "cell_type": "markdown",
   "metadata": {},
   "source": [
    "File Handling"
   ]
  },
  {
   "cell_type": "markdown",
   "metadata": {},
   "source": [
    "to write and read , type w+\n",
    "when u open a file in write mode, if it doesnt exist it will automaticaly get created.\n",
    "in read mode, it is an error\n"
   ]
  },
  {
   "cell_type": "code",
   "execution_count": null,
   "metadata": {},
   "outputs": [],
   "source": [
    "file=open(\"sample.txt\",\"w+\")"
   ]
  },
  {
   "cell_type": "code",
   "execution_count": null,
   "metadata": {},
   "outputs": [],
   "source": [
    "file.write(\"this is my first line in the file\")"
   ]
  },
  {
   "cell_type": "markdown",
   "metadata": {},
   "source": [
    "33 is the number of characters that is written to the file\n",
    "file is a permanent storage.\n",
    "when u do the above code, u still dont see any changes in the original file, its because the string is stored in a temp variable.\n",
    "to actually see the changes in the original file, u have to save the file by using close fn in vscode\n"
   ]
  },
  {
   "cell_type": "code",
   "execution_count": null,
   "metadata": {},
   "outputs": [],
   "source": [
    "file=open(\"sample.txt\",\"a+\")"
   ]
  },
  {
   "cell_type": "code",
   "execution_count": null,
   "metadata": {},
   "outputs": [],
   "source": [
    "file.write(\"\\n this is second line\")"
   ]
  },
  {
   "cell_type": "code",
   "execution_count": null,
   "metadata": {},
   "outputs": [],
   "source": [
    "file.close()"
   ]
  },
  {
   "cell_type": "code",
   "execution_count": null,
   "metadata": {},
   "outputs": [],
   "source": []
  },
  {
   "cell_type": "code",
   "execution_count": null,
   "metadata": {},
   "outputs": [],
   "source": [
    "file_read=open(\"sample.txt\",\"r+\")\n",
    "a=file_read.readline()"
   ]
  },
  {
   "cell_type": "code",
   "execution_count": null,
   "metadata": {},
   "outputs": [],
   "source": [
    "file_read.readlines()\n"
   ]
  },
  {
   "cell_type": "code",
   "execution_count": null,
   "metadata": {},
   "outputs": [],
   "source": [
    "file=open(\"sample.txt\",\"a+\")\n",
    "file.write(\"\\n this is third line \\n this is fourth line\")"
   ]
  },
  {
   "cell_type": "code",
   "execution_count": null,
   "metadata": {},
   "outputs": [],
   "source": [
    "file.close()\n"
   ]
  },
  {
   "cell_type": "code",
   "execution_count": null,
   "metadata": {},
   "outputs": [],
   "source": [
    "file_read=open(\"sample.txt\",\"r+\")"
   ]
  },
  {
   "cell_type": "code",
   "execution_count": null,
   "metadata": {},
   "outputs": [],
   "source": [
    "file_read.readline()"
   ]
  },
  {
   "cell_type": "code",
   "execution_count": null,
   "metadata": {},
   "outputs": [],
   "source": [
    "file_read.readlines()"
   ]
  },
  {
   "cell_type": "markdown",
   "metadata": {},
   "source": [
    "readline() gives first line in the file\n",
    "readlines() gives the lines in the file in a list(but first line wont be print)\n",
    "first line will only be rpinted if you dont do readline first\n"
   ]
  },
  {
   "cell_type": "markdown",
   "metadata": {},
   "source": [
    "write a function that accepts your details and save into a file."
   ]
  },
  {
   "cell_type": "code",
   "execution_count": null,
   "metadata": {},
   "outputs": [],
   "source": [
    "name=input(\"enter your Name:\")\n",
    "regno=input(\"enter your reg no:\")\n",
    "ph_no=input(\"enter your phone no:\")\n",
    "email=input(\"enter your email:\")\n",
    "def details(n,r,p,e):\n",
    "    person=open(n+\".txt\",\"w+\")   #jyosna.txt\n",
    "    person.write(\"Name:\\t\"+n)\n",
    "    person.write(\"\\nReg No:\\t\"+r)\n",
    "    person.write(\"\\nPhone No:\\t\"+p)\n",
    "    person.write(\"\\nEmail:\\t\"+e)\n",
    "    person.close()\n",
    "    return True\n",
    "ret=details(name,regno,ph_no,email)\n",
    "if ret:\n",
    "    print(\"your details are saved\")\n",
    "    print(\"*\"*30)\n",
    "    file=open(name+\".txt\",\"r+\")\n",
    "    #for line in open(name+\".txt\",\"r+\").readlines():\n",
    "    for line in file.readlines():\n",
    "        print(line)\n",
    "    print(\"*\"*30)\n",
    "else:\n",
    "    print(\"error ocurred,please try again\")"
   ]
  },
  {
   "cell_type": "markdown",
   "metadata": {},
   "source": []
  },
  {
   "cell_type": "code",
   "execution_count": 1,
   "metadata": {},
   "outputs": [],
   "source": [
    "import pandas as pd"
   ]
  },
  {
   "cell_type": "code",
   "execution_count": null,
   "metadata": {},
   "outputs": [],
   "source": [
    "import pandas as pd\n",
    "# name=input(\"enter your Name:\")\n",
    "# regno=input(\"enter your reg no:\")\n",
    "# ph_no=input(\"enter your phone no:\")\n",
    "# email=input(\"enter your email:\")\n",
    "# def details(n,r,p,e):\n",
    "#     pd.DataFrame()\n",
    "#     person=open(n+\".txt\",\"w+\")   #jyosna.txt\n",
    "#     person.write(\"Name:\\t\"+n)\n",
    "#     person.write(\"\\nReg No:\\t\"+r)\n",
    "#     person.write(\"\\nPhone No:\\t\"+p)\n",
    "#     person.write(\"\\nEmail:\\t\"+e)\n"
   ]
  },
  {
   "cell_type": "code",
   "execution_count": 28,
   "metadata": {},
   "outputs": [],
   "source": [
    "class NameList:\n",
    "    def __init__(self):\n",
    "        self.nameList=pd.DataFrame({\"Name\":[],\"Regno\":[],\"phone No\":[],'email':[]})\n",
    "        self.nameList.set_index(\"Regno\",inplace=True)\n",
    "    def send_Details(self,n,rn,pn,em):\n",
    "        dummy_df=pd.DataFrame({\"Name\":[n],\"Regno\":[rn],\"phone No\":[pn],'email':[em]})\n",
    "        dummy_df.set_index(\"Regno\",inplace=True)\n",
    "        self.nameList=pd.concat([self.nameList,dummy_df])\n",
    "        print(\"details saved successfully\")\n",
    "        print(self.nameList.tail(1))\n",
    "    def get_allNames(self):\n",
    "        return self.nameList"
   ]
  },
  {
   "cell_type": "code",
   "execution_count": 29,
   "metadata": {},
   "outputs": [],
   "source": [
    "msds=NameList()"
   ]
  },
  {
   "cell_type": "code",
   "execution_count": 30,
   "metadata": {},
   "outputs": [
    {
     "name": "stdout",
     "output_type": "stream",
     "text": [
      "details saved successfully\n",
      "         Name  phone No                   email\n",
      "Regno                                          \n",
      "7657   jyosna   78697.0  jyosnaphilip@gmail.com\n",
      "details saved successfully\n",
      "            Name   phone No              email\n",
      "Regno                                         \n",
      "3898738  jyothis  8137189.0  jyothis@gmail.com\n",
      "details saved successfully\n",
      "           Name  phone No              email\n",
      "Regno                                       \n",
      "387803  joyanna  387318.0  joyanna@gmail.com\n"
     ]
    },
    {
     "name": "stderr",
     "output_type": "stream",
     "text": [
      "C:\\Users\\jyosn\\AppData\\Local\\Temp\\ipykernel_14516\\2022076834.py:8: FutureWarning: The behavior of array concatenation with empty entries is deprecated. In a future version, this will no longer exclude empty items when determining the result dtype. To retain the old behavior, exclude the empty entries before the concat operation.\n",
      "  self.nameList=pd.concat([self.nameList,dummy_df])\n"
     ]
    }
   ],
   "source": [
    "msds.send_Details(\"jyosna\",7657,78697,\"jyosnaphilip@gmail.com\")\n",
    "msds.send_Details(\"jyothis\",3898738,8137189,\"jyothis@gmail.com\")\n",
    "msds.send_Details(\"joyanna\",387803,387318,\"joyanna@gmail.com\")"
   ]
  },
  {
   "cell_type": "code",
   "execution_count": 40,
   "metadata": {},
   "outputs": [
    {
     "name": "stdout",
     "output_type": "stream",
     "text": [
      "Name                        jyosna\n",
      "phone No                   78697.0\n",
      "email       jyosnaphilip@gmail.com\n",
      "Name: 7657, dtype: object\n"
     ]
    }
   ],
   "source": [
    "df=msds.get_allNames()\n"
   ]
  },
  {
   "cell_type": "code",
   "execution_count": null,
   "metadata": {},
   "outputs": [],
   "source": []
  }
 ],
 "metadata": {
  "kernelspec": {
   "display_name": "Python 3",
   "language": "python",
   "name": "python3"
  },
  "language_info": {
   "codemirror_mode": {
    "name": "ipython",
    "version": 3
   },
   "file_extension": ".py",
   "mimetype": "text/x-python",
   "name": "python",
   "nbconvert_exporter": "python",
   "pygments_lexer": "ipython3",
   "version": "3.11.5"
  },
  "orig_nbformat": 4
 },
 "nbformat": 4,
 "nbformat_minor": 2
}

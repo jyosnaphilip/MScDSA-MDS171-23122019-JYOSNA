{
 "cells": [
  {
   "cell_type": "markdown",
   "metadata": {},
   "source": [
    "File Handling"
   ]
  },
  {
   "cell_type": "markdown",
   "metadata": {},
   "source": [
    "to write and read , type w+\n",
    "when u open a file in write mode, if it doesnt exist it will automaticaly get created.\n",
    "in read mode, it is an error\n"
   ]
  },
  {
   "cell_type": "code",
   "execution_count": 1,
   "metadata": {},
   "outputs": [],
   "source": [
    "file=open(\"sample.txt\",\"w+\")"
   ]
  },
  {
   "cell_type": "code",
   "execution_count": 2,
   "metadata": {},
   "outputs": [
    {
     "data": {
      "text/plain": [
       "33"
      ]
     },
     "execution_count": 2,
     "metadata": {},
     "output_type": "execute_result"
    }
   ],
   "source": [
    "file.write(\"this is my first line in the file\")"
   ]
  },
  {
   "cell_type": "markdown",
   "metadata": {},
   "source": [
    "33 is the number of characters that is written to the file\n",
    "file is a permanent storage.\n",
    "when u do the above code, u still dont see any changes in the original file, its because the string is stored in a temp variable.\n",
    "to actually see the changes in the original file, u have to save the file by using close fn in vscode\n"
   ]
  },
  {
   "cell_type": "code",
   "execution_count": 1,
   "metadata": {},
   "outputs": [],
   "source": [
    "file=open(\"sample.txt\",\"a+\")"
   ]
  },
  {
   "cell_type": "code",
   "execution_count": 2,
   "metadata": {},
   "outputs": [
    {
     "data": {
      "text/plain": [
       "21"
      ]
     },
     "execution_count": 2,
     "metadata": {},
     "output_type": "execute_result"
    }
   ],
   "source": [
    "file.write(\"\\n this is second line\")"
   ]
  },
  {
   "cell_type": "code",
   "execution_count": 8,
   "metadata": {},
   "outputs": [],
   "source": [
    "file.close()"
   ]
  },
  {
   "cell_type": "code",
   "execution_count": null,
   "metadata": {},
   "outputs": [],
   "source": []
  },
  {
   "cell_type": "code",
   "execution_count": 9,
   "metadata": {},
   "outputs": [],
   "source": [
    "file_read=open(\"sample.txt\",\"r+\")\n",
    "a=file_read.readline()"
   ]
  },
  {
   "cell_type": "code",
   "execution_count": 10,
   "metadata": {},
   "outputs": [
    {
     "data": {
      "text/plain": [
       "[' this is second line\\n',\n",
       " ' this is third line \\n',\n",
       " ' this is fourth line\\n',\n",
       " ' this is second line']"
      ]
     },
     "execution_count": 10,
     "metadata": {},
     "output_type": "execute_result"
    }
   ],
   "source": [
    "file_read.readlines()\n"
   ]
  },
  {
   "cell_type": "code",
   "execution_count": 18,
   "metadata": {},
   "outputs": [
    {
     "data": {
      "text/plain": [
       "42"
      ]
     },
     "execution_count": 18,
     "metadata": {},
     "output_type": "execute_result"
    }
   ],
   "source": [
    "file=open(\"sample.txt\",\"a+\")\n",
    "file.write(\"\\n this is third line \\n this is fourth line\")"
   ]
  },
  {
   "cell_type": "code",
   "execution_count": 19,
   "metadata": {},
   "outputs": [],
   "source": [
    "file.close()\n"
   ]
  },
  {
   "cell_type": "code",
   "execution_count": 26,
   "metadata": {},
   "outputs": [],
   "source": [
    "file_read=open(\"sample.txt\",\"r+\")"
   ]
  },
  {
   "cell_type": "code",
   "execution_count": 27,
   "metadata": {},
   "outputs": [
    {
     "data": {
      "text/plain": [
       "'this is my first line in the file\\n'"
      ]
     },
     "execution_count": 27,
     "metadata": {},
     "output_type": "execute_result"
    }
   ],
   "source": [
    "file_read.readline()"
   ]
  },
  {
   "cell_type": "code",
   "execution_count": 28,
   "metadata": {},
   "outputs": [
    {
     "data": {
      "text/plain": [
       "[' this is second line\\n', ' this is third line \\n', ' this is fourth line']"
      ]
     },
     "execution_count": 28,
     "metadata": {},
     "output_type": "execute_result"
    }
   ],
   "source": [
    "file_read.readlines()"
   ]
  },
  {
   "cell_type": "markdown",
   "metadata": {},
   "source": [
    "readline() gives first line in the file\n",
    "readlines() gives the lines in the file in a list(but first line wont be print)\n",
    "first line will only be rpinted if you dont do readline first\n"
   ]
  },
  {
   "cell_type": "markdown",
   "metadata": {},
   "source": [
    "write a function that accepts your details and save into a file."
   ]
  },
  {
   "cell_type": "code",
   "execution_count": 31,
   "metadata": {},
   "outputs": [
    {
     "name": "stdout",
     "output_type": "stream",
     "text": [
      "your details are saved\n",
      "******************************\n",
      "Name:\tJyosna Philip\n",
      "\n",
      "Reg No:\t23122019\n",
      "\n",
      "Phone No:\t8089411882\n",
      "\n",
      "Email:\tjyosna.philip@msds.christuniversity.com\n",
      "******************************\n"
     ]
    }
   ],
   "source": [
    "name=input(\"enter your Name:\")\n",
    "regno=input(\"enter your reg no:\")\n",
    "ph_no=input(\"enter your phone no:\")\n",
    "email=input(\"enter your email:\")\n",
    "def details(n,r,p,e):\n",
    "    person=open(n+\".txt\",\"w+\")   #jyosna.txt\n",
    "    person.write(\"Name:\\t\"+n)\n",
    "    person.write(\"\\nReg No:\\t\"+r)\n",
    "    person.write(\"\\nPhone No:\\t\"+p)\n",
    "    person.write(\"\\nEmail:\\t\"+e)\n",
    "    person.close()\n",
    "    return True\n",
    "ret=details(name,regno,ph_no,email)\n",
    "if ret:\n",
    "    print(\"your details are saved\")\n",
    "    print(\"*\"*30)\n",
    "    file=open(name+\".txt\",\"r+\")\n",
    "    #for line in open(name+\".txt\",\"r+\").readlines():\n",
    "    for line in file.readlines():\n",
    "        print(line)\n",
    "    print(\"*\"*30)\n",
    "else:\n",
    "    print(\"error ocurred,please try again\")"
   ]
  },
  {
   "cell_type": "markdown",
   "metadata": {},
   "source": []
  }
 ],
 "metadata": {
  "kernelspec": {
   "display_name": "Python 3",
   "language": "python",
   "name": "python3"
  },
  "language_info": {
   "codemirror_mode": {
    "name": "ipython",
    "version": 3
   },
   "file_extension": ".py",
   "mimetype": "text/x-python",
   "name": "python",
   "nbconvert_exporter": "python",
   "pygments_lexer": "ipython3",
   "version": "3.11.5"
  },
  "orig_nbformat": 4
 },
 "nbformat": 4,
 "nbformat_minor": 2
}

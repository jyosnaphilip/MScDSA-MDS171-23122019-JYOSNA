{
 "cells": [
  {
   "cell_type": "code",
   "execution_count": 53,
   "metadata": {},
   "outputs": [
    {
     "name": "stdout",
     "output_type": "stream",
     "text": [
      "total number of rows: 185\n",
      "the column headers are:Date,Open,High,Low,Close,Adj Close,Volume\n",
      "first five rows are:\n",
      "2014-09-29        100.589996        100.690002        98.040001        99.620003        93.514290        142718700        \n",
      "\n",
      "2014-10-06        99.949997        102.379997        98.309998        100.730003        94.556244        280258200        \n",
      "\n",
      "2014-10-13        101.330002        101.779999        95.180000        97.669998        91.683792        358539800        \n",
      "\n",
      "2014-10-20        98.320000        105.489998        98.220001        105.220001        98.771042        358532900        \n",
      "\n",
      "2014-10-27        104.849998        108.040001        104.699997        108.000000        101.380676        220230600        \n",
      "\n"
     ]
    }
   ],
   "source": [
    "import csv\n",
    "filename=\"AAPL.csv\"\n",
    "with open(filename,\"r+\") as csvfile:# csvfile=open(\"aapl.csv\",r+)\n",
    "    csvreader=csv.reader(csvfile) #csv.read()\n",
    "    columns=[]\n",
    "    rows=[]\n",
    "    #csvreader is iterable object\n",
    "\n",
    "    columns=csvreader.__next__() #next fn takes the current iteration(first line,i.e., headings),stores in column and go to next iteration\n",
    "    for eachrow in csvreader:\n",
    "        rows.append(eachrow)\n",
    "    print(\"total number of rows:\", csvreader.line_num)\n",
    "    #line_num is a counter that counts the number of iterations. \n",
    "print(\"the column headers are:\"+\",\".join(column for column in columns))\n",
    "print(\"first five rows are:\")\n",
    "for row in rows[:5]:\n",
    "    for col in row:\n",
    "        print(col,end=\"        \")\n",
    "    print(\"\\n\") \n",
    "    "
   ]
  },
  {
   "cell_type": "code",
   "execution_count": 6,
   "metadata": {},
   "outputs": [
    {
     "ename": "SyntaxError",
     "evalue": "invalid syntax. Perhaps you forgot a comma? (1809879457.py, line 1)",
     "output_type": "error",
     "traceback": [
      "\u001b[1;36m  Cell \u001b[1;32mIn[6], line 1\u001b[1;36m\u001b[0m\n\u001b[1;33m    list(\"[\"bun\",'b']\")\u001b[0m\n\u001b[1;37m         ^\u001b[0m\n\u001b[1;31mSyntaxError\u001b[0m\u001b[1;31m:\u001b[0m invalid syntax. Perhaps you forgot a comma?\n"
     ]
    }
   ],
   "source": [
    "\n"
   ]
  },
  {
   "cell_type": "code",
   "execution_count": null,
   "metadata": {},
   "outputs": [],
   "source": []
  }
 ],
 "metadata": {
  "kernelspec": {
   "display_name": "Python 3",
   "language": "python",
   "name": "python3"
  },
  "language_info": {
   "codemirror_mode": {
    "name": "ipython",
    "version": 3
   },
   "file_extension": ".py",
   "mimetype": "text/x-python",
   "name": "python",
   "nbconvert_exporter": "python",
   "pygments_lexer": "ipython3",
   "version": "3.11.5"
  },
  "orig_nbformat": 4
 },
 "nbformat": 4,
 "nbformat_minor": 2
}

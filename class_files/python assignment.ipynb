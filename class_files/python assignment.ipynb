{
 "cells": [
  {
   "cell_type": "code",
   "execution_count": 3,
   "metadata": {},
   "outputs": [],
   "source": [
    "import random\n",
    "f=open(\"bankCustomerDetails.csv\",\"w+\")\n",
    "f.close()"
   ]
  },
  {
   "cell_type": "code",
   "execution_count": null,
   "metadata": {},
   "outputs": [],
   "source": [
    "#customer details\n",
    "\n",
    "def addCustomer():\n",
    "    f=open(\"bankCustomerDetails.csv\",\"a+\")\n",
    "    name=input(\"enter Customer Name:\")\n",
    "    age=input(\"Enter Customer Age:\")\n",
    "    email=input(\"Enter email:\")\n",
    "    phone=input(\"enter phone number:\")\n",
    "    aadhar=input(\"enter adhar number\")\n",
    "    balance=input(\"enter deposite amount\")\n",
    "    nominee=input(\"enter nominee details\")\n",
    "    f.write(name+\",\"+age+\",\"+email+\",\"+phone+\",\"+pan+\",\"+aadhar+\",\"+balance+\",\"+nominee)\n",
    "    f.close()\n",
    "\n",
    "def updateDetails():\n",
    "    print(\"\")\n",
    "\n"
   ]
  }
 ],
 "metadata": {
  "kernelspec": {
   "display_name": "Python 3",
   "language": "python",
   "name": "python3"
  },
  "language_info": {
   "codemirror_mode": {
    "name": "ipython",
    "version": 3
   },
   "file_extension": ".py",
   "mimetype": "text/x-python",
   "name": "python",
   "nbconvert_exporter": "python",
   "pygments_lexer": "ipython3",
   "version": "3.11.5"
  },
  "orig_nbformat": 4
 },
 "nbformat": 4,
 "nbformat_minor": 2
}

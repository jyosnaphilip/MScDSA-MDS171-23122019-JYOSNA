{
 "cells": [
  {
   "cell_type": "code",
   "execution_count": 2,
   "metadata": {},
   "outputs": [
    {
     "name": "stdout",
     "output_type": "stream",
     "text": [
      "  this is a string  \n",
      "this will go in new line \n",
      "46\n",
      "43\n"
     ]
    }
   ],
   "source": [
    "msg=\"  this is a string  \\nthis will go in new line \"\n",
    "print(msg)\n",
    "print(len(msg)) \n",
    "msg=msg.strip() #to remove empty spaces in the beginning and at the end of the string\n",
    "print(len(msg))\n"
   ]
  },
  {
   "cell_type": "code",
   "execution_count": 3,
   "metadata": {},
   "outputs": [
    {
     "name": "stdout",
     "output_type": "stream",
     "text": [
      "t\n",
      "h\n",
      "i\n",
      "s\n",
      " \n",
      "i\n",
      "s\n",
      " \n",
      "a\n",
      " \n",
      "s\n",
      "t\n",
      "r\n",
      "i\n",
      "n\n",
      "g\n"
     ]
    }
   ],
   "source": [
    "for x in \"this is a string\":\n",
    "    print(x)"
   ]
  },
  {
   "cell_type": "code",
   "execution_count": 4,
   "metadata": {},
   "outputs": [
    {
     "name": "stdout",
     "output_type": "stream",
     "text": [
      "0\n",
      "2\n",
      "4\n",
      "6\n",
      "8\n"
     ]
    }
   ],
   "source": [
    "for var in range(0,10,2): #default value of step is 1\n",
    "    print(var)"
   ]
  },
  {
   "cell_type": "code",
   "execution_count": 7,
   "metadata": {},
   "outputs": [
    {
     "name": "stdout",
     "output_type": "stream",
     "text": [
      "<class 'list'>\n",
      "[2, 3, 'when', 'how']\n",
      "2\n",
      "3\n",
      "when\n",
      "how\n"
     ]
    }
   ],
   "source": [
    "listex =[2,3,\"when\",\"how\"]\n",
    "print(type(listex))\n",
    "print(listex)\n",
    "for i in range(0,4):\n",
    "    print(listex[i])"
   ]
  },
  {
   "cell_type": "markdown",
   "metadata": {},
   "source": [
    "negative index"
   ]
  },
  {
   "cell_type": "markdown",
   "metadata": {},
   "source": [
    "\\t gives tab"
   ]
  },
  {
   "cell_type": "code",
   "execution_count": 1,
   "metadata": {},
   "outputs": [
    {
     "name": "stdout",
     "output_type": "stream",
     "text": [
      "hai...\n",
      "\t   hai...  \n",
      "\n"
     ]
    }
   ],
   "source": [
    "a=\"\\t   hai...  \\n\"\n",
    "print(a.strip())\n",
    "print(a)"
   ]
  },
  {
   "cell_type": "markdown",
   "metadata": {},
   "source": [
    "here eventho u applied strip on a it is still unaffected when we print a.\n",
    "u should save it in a variable."
   ]
  },
  {
   "cell_type": "code",
   "execution_count": 2,
   "metadata": {},
   "outputs": [
    {
     "name": "stdout",
     "output_type": "stream",
     "text": [
      "hai...\n"
     ]
    }
   ],
   "source": [
    "a=\"\\t   hai...  \\n\"\n",
    "y=a.strip()\n",
    "print(y)"
   ]
  },
  {
   "cell_type": "code",
   "execution_count": 4,
   "metadata": {},
   "outputs": [
    {
     "data": {
      "text/plain": [
       "['hello', 'this', 'is', 'a', 'string']"
      ]
     },
     "execution_count": 4,
     "metadata": {},
     "output_type": "execute_result"
    }
   ],
   "source": [
    "a=\"hello this is a string\"\n",
    "a.split(' ')\n"
   ]
  },
  {
   "cell_type": "code",
   "execution_count": 5,
   "metadata": {},
   "outputs": [
    {
     "data": {
      "text/plain": [
       "'string'"
      ]
     },
     "execution_count": 5,
     "metadata": {},
     "output_type": "execute_result"
    }
   ],
   "source": [
    "a=\"hello this is a string\"\n",
    "a.split(' ')[-1]\n"
   ]
  },
  {
   "cell_type": "markdown",
   "metadata": {},
   "source": [
    "if you do the same thing in python or a .py file it wouldnt work.\n",
    "therefore wrap it in a print statement or store it in a variable and then print it"
   ]
  },
  {
   "cell_type": "code",
   "execution_count": 6,
   "metadata": {},
   "outputs": [
    {
     "name": "stdout",
     "output_type": "stream",
     "text": [
      "JYOSNA\n",
      "philip\n",
      "pHIliP\n"
     ]
    }
   ],
   "source": [
    "print(\"jyosna\".upper())\n",
    "print(\"PHiliP\".lower())\n",
    "print(\"PhiLIp\".swapcase())"
   ]
  },
  {
   "cell_type": "markdown",
   "metadata": {},
   "source": [
    "string slicing\n",
    "format() function"
   ]
  },
  {
   "cell_type": "code",
   "execution_count": 8,
   "metadata": {},
   "outputs": [
    {
     "name": "stdout",
     "output_type": "stream",
     "text": [
      "you are from jo and you name is:kerala.\n"
     ]
    }
   ],
   "source": [
    "\n",
    "name=input(\"enter your name\")\n",
    "nclass=input(\"where do you belong\")\n",
    "print(\"you are from {} and you name is:{}.\".format(name,nclass))"
   ]
  }
 ],
 "metadata": {
  "kernelspec": {
   "display_name": "Python 3",
   "language": "python",
   "name": "python3"
  },
  "language_info": {
   "codemirror_mode": {
    "name": "ipython",
    "version": 3
   },
   "file_extension": ".py",
   "mimetype": "text/x-python",
   "name": "python",
   "nbconvert_exporter": "python",
   "pygments_lexer": "ipython3",
   "version": "3.11.3"
  },
  "orig_nbformat": 4
 },
 "nbformat": 4,
 "nbformat_minor": 2
}

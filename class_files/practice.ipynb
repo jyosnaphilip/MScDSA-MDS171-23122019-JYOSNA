{
 "cells": [
  {
   "cell_type": "code",
   "execution_count": 11,
   "metadata": {},
   "outputs": [],
   "source": [
    "class expense_track:\n",
    "    def __init__(self):\n",
    "        self.income_expense_dict={\"income\":0,\"expense\":{\n",
    "            \"House rent\":0, \"Groceries\":0, \"Transportation\":0,\n",
    "            \"EB\":0, \"Savings\":0, \"Medical expenses\":0, \"Others\":0}}\n",
    "    \n",
    "    def get_income(self,income):\n",
    "        self.income_expense_dict[\"income\"]=income\n",
    "    \n",
    "    def get_expense(self,rent,groc,tran,eb,savings,med,others):\n",
    "        list=[rent,groc,tran,eb,savings,med,others]\n",
    "        count=0\n",
    "        for i in self.income_expense_dict[\"expense\"]:\n",
    "            self.income_expense_dict[\"expense\"][i]=list[count]\n",
    "            count+=1\n",
    "        return self.income_expense_dict\n",
    "    \n",
    "    def get_total(self):\n",
    "        total=0\n",
    "        for i in self.income_expense_dict[\"expense\"]:\n",
    "            total+=self.income_expense_dict[\"expense\"][i]\n",
    "        return total\n",
    "    \n",
    "    def categorize(self):\n",
    "        categorize_dict={\"High\":{},\"Low\":{}}\n",
    "        for i in self.income_expense_dict[\"expense\"]:\n",
    "            if self.income_expense_dict[\"expense\"][i]>=5000:\n",
    "                categorize_dict[\"High\"].update({i:self.income_expense_dict[\"expense\"][i]})\n",
    "            elif self.income_expense_dict[\"expense\"][i]<=1000:\n",
    "                categorize_dict[\"Low\"].update({i:self.income_expense_dict[\"expense\"][i]})\n",
    "            else:\n",
    "                pass\n",
    "        return categorize_dict"
   ]
  },
  {
   "cell_type": "code",
   "execution_count": 12,
   "metadata": {},
   "outputs": [],
   "source": [
    "expense=expense_track()"
   ]
  },
  {
   "cell_type": "code",
   "execution_count": 13,
   "metadata": {},
   "outputs": [
    {
     "name": "stdout",
     "output_type": "stream",
     "text": [
      "{'income': '70000', 'expense': {'House rent': 14000, 'Groceries': 5000, 'Transportation': 300, 'EB': 4000, 'Savings': 4000, 'Medical expenses': 8000, 'Others': 3000}}\n",
      "38300\n",
      "{'High': {'House rent': 14000, 'Groceries': 5000, 'Medical expenses': 8000}, 'Low': {'Transportation': 300}}\n"
     ]
    }
   ],
   "source": [
    "income=input(\"enter income\")\n",
    "rent=int(input(\"House rent\"))\n",
    "groc=int(input(\"Groceries\"))\n",
    "eb=int(input(\"eb\"))\n",
    "trans=int(input(\"transportation\"))\n",
    "save=int(input(\"savings\"))\n",
    "med=int(input(\"med\"))\n",
    "others=int(input(\"others\"))\n",
    "expense.get_income(income)\n",
    "ex=expense.get_expense(rent,groc,trans,eb,save,med,others)\n",
    "print(ex)\n",
    "tot=expense.get_total()\n",
    "print(tot)\n",
    "cat=expense.categorize()\n",
    "print(cat)"
   ]
  },
  {
   "cell_type": "code",
   "execution_count": null,
   "metadata": {},
   "outputs": [],
   "source": []
  }
 ],
 "metadata": {
  "kernelspec": {
   "display_name": "Python 3",
   "language": "python",
   "name": "python3"
  },
  "language_info": {
   "codemirror_mode": {
    "name": "ipython",
    "version": 3
   },
   "file_extension": ".py",
   "mimetype": "text/x-python",
   "name": "python",
   "nbconvert_exporter": "python",
   "pygments_lexer": "ipython3",
   "version": "3.11.5"
  }
 },
 "nbformat": 4,
 "nbformat_minor": 2
}

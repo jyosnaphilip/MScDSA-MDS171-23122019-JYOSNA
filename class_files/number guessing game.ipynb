{
 "cells": [
  {
   "cell_type": "code",
   "execution_count": null,
   "metadata": {},
   "outputs": [],
   "source": [
    "import random\n",
    "a=int(input(\"enter lower limit of range:\"))\n",
    "b=int(input(\"enter upper limit of range:\"))\n",
    "n=random.randrange(a,b)\n",
    "global i\n",
    "t=round((b-a)/4)\n",
    "i=0\n",
    "def guessgame(k):\n",
    "    guess=int(input(\"enter your guess:\"))\n",
    "    global i\n",
    "    while(i<=k):\n",
    "        i+=1\n",
    "        if(guess<n):\n",
    "            print(\"you guessed low\")\n",
    "            guessgame(t)\n",
    "        elif(guess>n):\n",
    "            print(\"you guessed high\")\n",
    "            guessgame(t)\n",
    "        else:\n",
    "            print(\"your guess is right\")\n",
    "            print(\"no of guess:\",i)\n",
    "\n",
    "\n",
    "print(\"you have only\", t,\"tries\")\n",
    "\n",
    "guessgame(t)\n"
   ]
  },
  {
   "cell_type": "code",
   "execution_count": null,
   "metadata": {},
   "outputs": [],
   "source": []
  }
 ],
 "metadata": {
  "kernelspec": {
   "display_name": "Python 3",
   "language": "python",
   "name": "python3"
  },
  "language_info": {
   "codemirror_mode": {
    "name": "ipython",
    "version": 3
   },
   "file_extension": ".py",
   "mimetype": "text/x-python",
   "name": "python",
   "nbconvert_exporter": "python",
   "pygments_lexer": "ipython3",
   "version": "3.11.3"
  },
  "orig_nbformat": 4
 },
 "nbformat": 4,
 "nbformat_minor": 2
}

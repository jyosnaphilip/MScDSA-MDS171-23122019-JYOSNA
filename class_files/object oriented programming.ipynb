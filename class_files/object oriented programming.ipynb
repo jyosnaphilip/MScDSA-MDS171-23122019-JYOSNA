{
 "cells": [
  {
   "cell_type": "markdown",
   "metadata": {},
   "source": [
    "anything which is related are put together under a class\n"
   ]
  },
  {
   "cell_type": "code",
   "execution_count": 1,
   "metadata": {},
   "outputs": [
    {
     "name": "stdout",
     "output_type": "stream",
     "text": [
      "name: abhith\n",
      "Email : abhith@christ.in, \n",
      "Phone: 345678\n"
     ]
    }
   ],
   "source": [
    "# class student():\n",
    "#     #data members/attributes/properties of class\n",
    "#     #name,email,phonenumber\n",
    "#     #member functions are functions that the class can do\n",
    "#     def __init__(self):   #to initialise the data members or the properties of the class, data members are kept in the init method\n",
    "#         #init is a default constructor, it constructs values\n",
    "#         self.name=\"abhith\"\n",
    "#         self.email=\"abhith@christ.in\"\n",
    "#         self.phone=345678\n",
    "#     def printStudent(self):\n",
    "#         print(\"name: {}\\nEmail : {}, \\nPhone: {}\".format(self.name,self.email,self.phone))\n",
    "\n",
    "\n",
    "#     def __str__(self):\n",
    "#         pass\n",
    "# abith= student()\n",
    "# abith.printStudent()\n",
    "# this allows us to break down code into small units, allowing us to create modules/containers\n",
    "# dividing programmes into many modules=modularity\n",
    "# better readability\n",
    "# normal person will not understand what is happening, ensures security."
   ]
  },
  {
   "cell_type": "code",
   "execution_count": 2,
   "metadata": {},
   "outputs": [
    {
     "name": "stdout",
     "output_type": "stream",
     "text": [
      "Alwin MCA\n",
      "Alwin\n",
      "<class '__main__.Student'>\n"
     ]
    }
   ],
   "source": [
    "class Student:\n",
    "    def __init__(self,a,b):\n",
    "        self.name=a\n",
    "        self.stu_class=b\n",
    "      \n",
    "    def __str__(self):\n",
    "        return self.name\n",
    "abc=Student(\"Alwin\",\"MCA\")\n",
    "print(abc.name,abc.stu_class)\n",
    "print(abc)\n",
    "print(type(abc))\n",
    "        #a,b to ensure user input\n"
   ]
  },
  {
   "cell_type": "code",
   "execution_count": 2,
   "metadata": {},
   "outputs": [],
   "source": [
    "# create a class restaurant,that accepts items and quantity as input\n",
    "# inside your class you are having the item and its price as dictionary\n",
    "# create a function calculate cost that print the itemname,qty,and price\n",
    "class Restaurant:\n",
    "    def __init__(self,item,quantity):\n",
    "        self.itemName=item       #self.variablename type variables are globally accesible *within* the class-aka class variables\n",
    "        self.quantityCount=quantity\n",
    "        self.itemdict={\"tea\":10,\"coffee\":15,\"dosa\":40,\"idli\":40,\"poha\":25}\n",
    "    def findCost(self):\n",
    "        total=0    #total isnt a global like class fn\n",
    "        total=self.quantityCount*self.itemdict[self.itemName]\n",
    "        print(self.itemName,self.quantityCount,total)\n",
    "order=Restaurant(\"tea\",4)\n",
    "\n",
    "\n",
    "        "
   ]
  },
  {
   "cell_type": "code",
   "execution_count": 3,
   "metadata": {},
   "outputs": [
    {
     "name": "stdout",
     "output_type": "stream",
     "text": [
      "tea 4 40\n"
     ]
    }
   ],
   "source": [
    "order.findCost()"
   ]
  },
  {
   "cell_type": "markdown",
   "metadata": {},
   "source": [
    "define class expense tracker that stores expenses and income in a dictionary implement the method to :\n",
    "store the transaction\n",
    "view transactions\n",
    "calculate the total expense?income"
   ]
  },
  {
   "cell_type": "code",
   "execution_count": 34,
   "metadata": {},
   "outputs": [
    {
     "data": {
      "text/plain": [
       "True"
      ]
     },
     "execution_count": 34,
     "metadata": {},
     "output_type": "execute_result"
    }
   ],
   "source": [
    "trans=int(input(\"enter transaction, positive if income and negative if expense:\"))\n",
    "transactType=input(\"enter the type of transaction:\")\n",
    "transactDate=input(\"enter Date:\")\n",
    "transactRemark=input(\"enter Remarks, if any. If none, enter '-':\")\n",
    "send.storeTransaction(trans,transactType,transactDate,transactRemark)\n",
    "\n",
    "\n",
    "\n"
   ]
  },
  {
   "cell_type": "code",
   "execution_count": 35,
   "metadata": {},
   "outputs": [
    {
     "name": "stdout",
     "output_type": "stream",
     "text": [
      "total income: 33400\n",
      "total expense: -800\n",
      "savings: 32600\n",
      "INCOME\n",
      "{'Amount': 400, 'Category': 'tuition', 'Date': '3', 'Remark': '-'}\n",
      "{'Amount': 33000, 'Category': 'salary', 'Date': '23', 'Remark': '-'}\n",
      "EXPENSE\n",
      "{'Amount': -800, 'Category': 'fees', 'Date': '23', 'Remark': '-'}\n"
     ]
    }
   ],
   "source": [
    "\n",
    "send.calcTransaction()\n",
    "send.viewTransaction()"
   ]
  },
  {
   "cell_type": "markdown",
   "metadata": {},
   "source": [
    "createa csv file for expense/income\n",
    "load csv file and populate the dictionary of the expenseTracker \n",
    "find the total expense and income\n",
    "additional task:\n",
    "using concept of menu driven progm show the menu option to add new transaction\n",
    "export the updated dictionary to the file"
   ]
  },
  {
   "cell_type": "code",
   "execution_count": 63,
   "metadata": {},
   "outputs": [],
   "source": [
    "sendFile=ExpenseTracker()\n",
    "\n"
   ]
  },
  {
   "cell_type": "code",
   "execution_count": 64,
   "metadata": {},
   "outputs": [
    {
     "name": "stdout",
     "output_type": "stream",
     "text": [
      "INCOME\n",
      "{'Amount': 12, 'Category': 'salry', 'Date': '23.4.23', 'Remark': '-'}\n",
      "{'Amount': 12, 'Category': 'rent', 'Date': '25.4.23', 'Remark': 'hjregfhjb'}\n",
      "{'Amount': 14, 'Category': 'electricity', 'Date': '23.4.24', 'Remark': 'hjregfhjb'}\n",
      "{'Amount': 16, 'Category': 'food', 'Date': '25.4.24', 'Remark': 'hjregfhjb'}\n",
      "{'Amount': 25, 'Category': 'water', 'Date': '23.4.25', 'Remark': 'hjregfhjb'}\n",
      "{'Amount': 28, 'Category': 'salry', 'Date': '23.4.26', 'Remark': 'hjregfhjb'}\n",
      "{'Amount': 31, 'Category': 'rent', 'Date': '25.4.26', 'Remark': 'hjregfhjb'}\n",
      "{'Amount': 34, 'Category': 'electricity', 'Date': '23.4.27', 'Remark': 'hjregfhjb'}\n",
      "{'Amount': 37, 'Category': 'food', 'Date': '25.4.27', 'Remark': 'hjregfhjb'}\n",
      "{'Amount': 40, 'Category': 'water', 'Date': '23.4.28', 'Remark': 'hjregfhjb'}\n",
      "{'Amount': 46, 'Category': 'salry', 'Date': '23.4.29', 'Remark': 'hjregfhjb'}\n",
      "{'Amount': 52, 'Category': 'electricity', 'Date': '23.4.30', 'Remark': 'hjregfhjb'}\n",
      "{'Amount': 58, 'Category': 'water', 'Date': '23.4.31', 'Remark': 'hjregfhjb'}\n",
      "{'Amount': 61, 'Category': 'clothes', 'Date': '25.4.31', 'Remark': 'hjregfhjb'}\n",
      "{'Amount': 64, 'Category': 'salry', 'Date': '23.4.24', 'Remark': 'hjregfhjb'}\n",
      "{'Amount': 67, 'Category': 'salry', 'Date': '25.4.24', 'Remark': 'hjregfhjb'}\n",
      "EXPENSE\n",
      "{'Amount': -25, 'Category': 'clothes', 'Date': '25.4.25', 'Remark': 'hjregfhjb'}\n",
      "{'Amount': -45, 'Category': 'clothes', 'Date': '25.4.28', 'Remark': 'hjregfhjb'}\n",
      "{'Amount': -100, 'Category': 'rent', 'Date': '25.4.29', 'Remark': 'hjregfhjb'}\n",
      "{'Amount': -75, 'Category': 'food', 'Date': '25.4.30', 'Remark': 'hjregfhjb'}\n",
      "None\n",
      "total income: 597\n",
      "total expense: -245\n",
      "savings: 352\n",
      "None\n"
     ]
    }
   ],
   "source": []
  },
  {
   "cell_type": "code",
   "execution_count": null,
   "metadata": {},
   "outputs": [],
   "source": []
  }
 ],
 "metadata": {
  "kernelspec": {
   "display_name": "Python 3",
   "language": "python",
   "name": "python3"
  },
  "language_info": {
   "codemirror_mode": {
    "name": "ipython",
    "version": 3
   },
   "file_extension": ".py",
   "mimetype": "text/x-python",
   "name": "python",
   "nbconvert_exporter": "python",
   "pygments_lexer": "ipython3",
   "version": "3.11.5"
  },
  "orig_nbformat": 4
 },
 "nbformat": 4,
 "nbformat_minor": 2
}

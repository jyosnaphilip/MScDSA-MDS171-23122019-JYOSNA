{
 "cells": [
  {
   "cell_type": "code",
   "execution_count": null,
   "metadata": {},
   "outputs": [],
   "source": [
    "keys=[]\n",
    "values=[]\n",
    "for i in items():\n",
    "    keys.append(i)\n",
    "    values.append([[0],[]])\n",
    "for i in readlines():\n",
    "    t=0\n",
    "    for j in keys:\n",
    "        if j in i:\n",
    "            itemstore=i.split(\",\")\n",
    "            values[t][0]+=int(itemstore[1])\n",
    "            values[t][1].append(int(itemstore[]))\n",
    "        t+=1\n",
    "        \n"
   ]
  }
 ],
 "metadata": {
  "language_info": {
   "name": "python"
  },
  "orig_nbformat": 4
 },
 "nbformat": 4,
 "nbformat_minor": 2
}

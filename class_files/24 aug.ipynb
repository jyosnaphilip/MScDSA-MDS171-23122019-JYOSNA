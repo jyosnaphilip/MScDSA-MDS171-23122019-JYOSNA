{
 "cells": [
  {
   "cell_type": "code",
   "execution_count": 2,
   "metadata": {},
   "outputs": [
    {
     "name": "stdout",
     "output_type": "stream",
     "text": [
      "start\n",
      "num is 5\n",
      "end\n"
     ]
    }
   ],
   "source": [
    "print(\"start\")\n",
    "a=int(input(\"enter a number\"))\n",
    "if a==5:\n",
    "    print(\"num is 5\")\n",
    "print(\"end\")"
   ]
  },
  {
   "cell_type": "markdown",
   "metadata": {},
   "source": [
    "if else"
   ]
  },
  {
   "cell_type": "markdown",
   "metadata": {},
   "source": [
    "q. read 3 inputs from user and print the largest among them"
   ]
  },
  {
   "cell_type": "code",
   "execution_count": null,
   "metadata": {},
   "outputs": [],
   "source": [
    "a=int(input(\"enter number:\"))\n",
    "b=int(input(\"enter number:\"))\n",
    "c=int(input(\"enter number:\"))\n",
    "if a>b and a>c:\n",
    "    print(\"the largest is:\",a)\n",
    "elif b>a and b>c:\n",
    "    print(\"the largest is:\",b)\n",
    "else:\n",
    "    print(\"the largest is:\",c)\n",
    "    \n",
    "\n"
   ]
  },
  {
   "cell_type": "markdown",
   "metadata": {},
   "source": [
    "with the same numbers try to sort the numbers in ascending/descending based on user input"
   ]
  },
  {
   "cell_type": "markdown",
   "metadata": {},
   "source": []
  }
 ],
 "metadata": {
  "kernelspec": {
   "display_name": "Python 3",
   "language": "python",
   "name": "python3"
  },
  "language_info": {
   "codemirror_mode": {
    "name": "ipython",
    "version": 3
   },
   "file_extension": ".py",
   "mimetype": "text/x-python",
   "name": "python",
   "nbconvert_exporter": "python",
   "pygments_lexer": "ipython3",
   "version": "3.11.3"
  },
  "orig_nbformat": 4
 },
 "nbformat": 4,
 "nbformat_minor": 2
}

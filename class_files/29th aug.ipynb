{
 "cells": [
  {
   "cell_type": "markdown",
   "metadata": {},
   "source": [
    "define a function that takes a list of numbers as input and return the sum of numbers,without any predefined funcitons. collect user input in the form of comma separated values."
   ]
  },
  {
   "cell_type": "code",
   "execution_count": 1,
   "metadata": {},
   "outputs": [],
   "source": [
    "def getsum(numbers):\n",
    "    sum=0\n",
    "    for i in numbers:\n",
    "        sum=sum+int(i)\n",
    "    return sum\n"
   ]
  },
  {
   "cell_type": "code",
   "execution_count": 2,
   "metadata": {},
   "outputs": [
    {
     "data": {
      "text/plain": [
       "14"
      ]
     },
     "execution_count": 2,
     "metadata": {},
     "output_type": "execute_result"
    }
   ],
   "source": [
    "take=input(\"enter numbers separated by comma:\")\n",
    "lst=take.split(\",\")\n",
    "getsum(lst)"
   ]
  },
  {
   "cell_type": "markdown",
   "metadata": {},
   "source": [
    "count the number odd and even numbers in the list and print the odd numbers count and even numbers count along with the numbers[you will have a function that that will take a list of numbers, then returns the count of odd numbers and even numbers and the new list of odd numbers and even numbers.]"
   ]
  },
  {
   "cell_type": "code",
   "execution_count": 3,
   "metadata": {},
   "outputs": [],
   "source": [
    "def oddeven(numbers):\n",
    "    oddcount=0\n",
    "    evencount=0\n",
    "    odd=[]\n",
    "    even=[]\n",
    "    for i in numbers:\n",
    "        if int(i)%2==0:\n",
    "            evencount+=1\n",
    "            even.append(int(i))\n",
    "        else:\n",
    "            oddcount+=1\n",
    "            odd.append(int(i))\n",
    "    return evencount,even,oddcount,odd"
   ]
  },
  {
   "cell_type": "code",
   "execution_count": 4,
   "metadata": {},
   "outputs": [
    {
     "name": "stdout",
     "output_type": "stream",
     "text": [
      "number of odd numbers: 4\n",
      "[56, 76, 12, 34]\n",
      "count of even numbers: 4\n",
      "[3, 45, 87, 5]\n"
     ]
    }
   ],
   "source": [
    "get=input(\"enter numbers separated by comma:\")\n",
    "lst2=get.split(\",\")\n",
    "odd,oddlst,even,evenlst=oddeven(lst2)\n",
    "print(\"number of odd numbers:\",odd)\n",
    "print(oddlst)\n",
    "print(\"count of even numbers:\",even)\n",
    "print(evenlst)"
   ]
  },
  {
   "cell_type": "code",
   "execution_count": null,
   "metadata": {},
   "outputs": [],
   "source": []
  }
 ],
 "metadata": {
  "kernelspec": {
   "display_name": "Python 3",
   "language": "python",
   "name": "python3"
  },
  "language_info": {
   "codemirror_mode": {
    "name": "ipython",
    "version": 3
   },
   "file_extension": ".py",
   "mimetype": "text/x-python",
   "name": "python",
   "nbconvert_exporter": "python",
   "pygments_lexer": "ipython3",
   "version": "3.11.5"
  },
  "orig_nbformat": 4
 },
 "nbformat": 4,
 "nbformat_minor": 2
}

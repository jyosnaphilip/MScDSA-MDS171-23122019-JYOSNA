{
 "cells": [
  {
   "cell_type": "markdown",
   "metadata": {},
   "source": [
    "#  while loop"
   ]
  },
  {
   "cell_type": "markdown",
   "metadata": {},
   "source": [
    "can be used for menu driven programss\n"
   ]
  },
  {
   "cell_type": "code",
   "execution_count": 2,
   "metadata": {},
   "outputs": [
    {
     "name": "stdout",
     "output_type": "stream",
     "text": [
      "0\n",
      "2\n",
      "4\n",
      "6\n",
      "8\n"
     ]
    }
   ],
   "source": [
    "#break, continue and pass\n",
    "for item in range(0,30,2):\n",
    "    if item==10:\n",
    "        break\n",
    "    print(item)"
   ]
  },
  {
   "cell_type": "code",
   "execution_count": 3,
   "metadata": {},
   "outputs": [
    {
     "name": "stdout",
     "output_type": "stream",
     "text": [
      "y\n"
     ]
    }
   ],
   "source": [
    "\n",
    "\n"
   ]
  },
  {
   "cell_type": "code",
   "execution_count": 6,
   "metadata": {},
   "outputs": [
    {
     "name": "stdout",
     "output_type": "stream",
     "text": [
      "Apple\n"
     ]
    }
   ],
   "source": [
    "#to extract only unique values of a list\n",
    "ist_ex=[\"Apple\",\"orange\",\"banana\",\"Apple\",\"mango\"]\n",
    "set_ex=(set(ist_ex))\n",
    "for a in set_ex:\n",
    "    if a==\"Apple\":\n",
    "        print(a)\n",
    "    "
   ]
  },
  {
   "cell_type": "markdown",
   "metadata": {},
   "source": [
    "like append in list, we can add stuff to set using add\n",
    "note: check up on set methods\n"
   ]
  },
  {
   "cell_type": "code",
   "execution_count": 8,
   "metadata": {},
   "outputs": [
    {
     "name": "stdout",
     "output_type": "stream",
     "text": [
      "['banana', 'mango', 'orange', 'Apple']\n"
     ]
    }
   ],
   "source": [
    "list_a=list(set_ex)\n",
    "print(list_a)"
   ]
  },
  {
   "cell_type": "markdown",
   "metadata": {},
   "source": [
    "write a program to accept 10 random strings.\n",
    "identify the unique items and their count"
   ]
  },
  {
   "cell_type": "code",
   "execution_count": 3,
   "metadata": {},
   "outputs": [],
   "source": [
    "def accept():\n",
    "    random_s=[]\n",
    "    for i in range(0,9):\n",
    "        s=input(\"enter random string:\")\n",
    "        s=s.lower()\n",
    "        s=s.strip()\n",
    "        random_s.append(s)\n",
    "    random_set=set(random_s)\n",
    "    unique=list(random_set)\n",
    "    \n",
    "    for i in unique:\n",
    "        counter=0\n",
    "        for j in random_s:\n",
    "            if i==j:\n",
    "                counter+=1\n",
    "        print(i,\"\\n\",counter)"
   ]
  },
  {
   "cell_type": "code",
   "execution_count": 4,
   "metadata": {},
   "outputs": [
    {
     "name": "stdout",
     "output_type": "stream",
     "text": [
      "min \n",
      " 1\n",
      "bin \n",
      " 2\n",
      "kin \n",
      " 2\n",
      "fin \n",
      " 2\n",
      "nivk \n",
      " 1\n",
      "din \n",
      " 1\n"
     ]
    }
   ],
   "source": [
    "accept()"
   ]
  },
  {
   "cell_type": "code",
   "execution_count": 2,
   "metadata": {},
   "outputs": [],
   "source": [
    "def sum(a,b):\n",
    "    s=a+b\n",
    "    d=a-b\n",
    "    print(\"sum is \", s)\n",
    "    return s, d"
   ]
  },
  {
   "cell_type": "code",
   "execution_count": 4,
   "metadata": {},
   "outputs": [
    {
     "name": "stdout",
     "output_type": "stream",
     "text": [
      "sum is  154\n",
      "154\n",
      "-20\n"
     ]
    }
   ],
   "source": [
    "k=int(input(\"enter\"))\n",
    "t=int(input(\"enter\"))\n",
    "f,l=sum(k,t)\n",
    "print(f)\n",
    "print(l)"
   ]
  },
  {
   "cell_type": "code",
   "execution_count": 5,
   "metadata": {},
   "outputs": [],
   "source": [
    "def mult(p,r):\n",
    "    m=p*r\n",
    "    print(m)\n"
   ]
  },
  {
   "cell_type": "code",
   "execution_count": 7,
   "metadata": {},
   "outputs": [
    {
     "ename": "NameError",
     "evalue": "name 's' is not defined",
     "output_type": "error",
     "traceback": [
      "\u001b[1;31m---------------------------------------------------------------------------\u001b[0m",
      "\u001b[1;31mNameError\u001b[0m                                 Traceback (most recent call last)",
      "\u001b[1;32mc:\\Users\\jyosn\\Desktop\\programming-with-python-class-files\\programming-with-python-class-files\\11th sep.ipynb Cell 14\u001b[0m line \u001b[0;36m1\n\u001b[1;32m----> <a href='vscode-notebook-cell:/c%3A/Users/jyosn/Desktop/programming-with-python-class-files/programming-with-python-class-files/11th%20sep.ipynb#X16sZmlsZQ%3D%3D?line=0'>1</a>\u001b[0m mult(s,d)\n",
      "\u001b[1;31mNameError\u001b[0m: name 's' is not defined"
     ]
    }
   ],
   "source": [
    "mult(s,d)"
   ]
  },
  {
   "cell_type": "code",
   "execution_count": null,
   "metadata": {},
   "outputs": [],
   "source": []
  }
 ],
 "metadata": {
  "kernelspec": {
   "display_name": "Python 3",
   "language": "python",
   "name": "python3"
  },
  "language_info": {
   "codemirror_mode": {
    "name": "ipython",
    "version": 3
   },
   "file_extension": ".py",
   "mimetype": "text/x-python",
   "name": "python",
   "nbconvert_exporter": "python",
   "pygments_lexer": "ipython3",
   "version": "3.11.5"
  },
  "orig_nbformat": 4
 },
 "nbformat": 4,
 "nbformat_minor": 2
}

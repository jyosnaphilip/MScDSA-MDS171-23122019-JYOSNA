{
 "cells": [
  {
   "cell_type": "code",
   "execution_count": 8,
   "metadata": {},
   "outputs": [],
   "source": [
    "file=open(\"firstcsv.csv\",\"w+\")\n",
    "file.write(\"name,jyosna,\")\n",
    "file.write(\"phone no,8089411882\")\n",
    "file.close()"
   ]
  },
  {
   "cell_type": "code",
   "execution_count": 3,
   "metadata": {},
   "outputs": [],
   "source": [
    "with open(\"orders.txt\",\"a+\") as file:\n",
    "             # this format, we dont need to close the file. "
   ]
  },
  {
   "cell_type": "markdown",
   "metadata": {},
   "source": [
    "read, check if file exists, if file is readable"
   ]
  },
  {
   "cell_type": "code",
   "execution_count": 10,
   "metadata": {},
   "outputs": [
    {
     "name": "stdout",
     "output_type": "stream",
     "text": [
      "['name', 'jyosna', 'phone no', '8089411882']\n"
     ]
    }
   ],
   "source": [
    "for line in open(\"firstcsv.csv\").readlines():\n",
    "    order=line.strip().split(\",\")\n",
    "    print(order)\n"
   ]
  },
  {
   "cell_type": "code",
   "execution_count": 1,
   "metadata": {},
   "outputs": [
    {
     "name": "stdout",
     "output_type": "stream",
     "text": [
      "['rice_p', '33']\n"
     ]
    }
   ],
   "source": [
    "rice_p=[]\n",
    "items=[\"rice\",\"apple\"]\n",
    "k=items[0]+\"_p\"\n",
    "rice_p.append(k)\n",
    "rice_p.append(\"33\")\n",
    "\n",
    "\n",
    "print(rice_p)"
   ]
  },
  {
   "cell_type": "code",
   "execution_count": null,
   "metadata": {},
   "outputs": [],
   "source": []
  }
 ],
 "metadata": {
  "kernelspec": {
   "display_name": "Python 3",
   "language": "python",
   "name": "python3"
  },
  "language_info": {
   "codemirror_mode": {
    "name": "ipython",
    "version": 3
   },
   "file_extension": ".py",
   "mimetype": "text/x-python",
   "name": "python",
   "nbconvert_exporter": "python",
   "pygments_lexer": "ipython3",
   "version": "3.11.5"
  },
  "orig_nbformat": 4
 },
 "nbformat": 4,
 "nbformat_minor": 2
}

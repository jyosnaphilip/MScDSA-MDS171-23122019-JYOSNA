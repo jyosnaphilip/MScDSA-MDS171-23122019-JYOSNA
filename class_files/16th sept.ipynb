{
 "cells": [
  {
   "cell_type": "code",
   "execution_count": 4,
   "metadata": {},
   "outputs": [
    {
     "name": "stdout",
     "output_type": "stream",
     "text": [
      "{'Alice': 87, 'Bob': 90, 'Carol': 79}\n"
     ]
    }
   ],
   "source": [
    "student_grades={\"Alice\":87,\"Bob\":90,\"Carol\":79}\n",
    "print(student_grades)\n"
   ]
  },
  {
   "cell_type": "code",
   "execution_count": 7,
   "metadata": {},
   "outputs": [
    {
     "name": "stdout",
     "output_type": "stream",
     "text": [
      "given input: 30,24,55,38,97,09,12,23,91,98,24\n",
      "[30, 24, 38, 12, 98, 24]\n"
     ]
    }
   ],
   "source": [
    "user_lst=[]\n",
    "\n",
    "user=input(\"enter list of numbers separated by comma\")\n",
    "print(\"given input:\",user)\n",
    "new_lst=user.split(\",\")\n",
    "for i in new_lst:\n",
    "    if int(i)%2==0:\n",
    "        user_lst.append(int(i))\n",
    "    else:\n",
    "        pass\n",
    "print(user_lst)\n"
   ]
  },
  {
   "cell_type": "code",
   "execution_count": null,
   "metadata": {},
   "outputs": [],
   "source": []
  }
 ],
 "metadata": {
  "kernelspec": {
   "display_name": "Python 3",
   "language": "python",
   "name": "python3"
  },
  "language_info": {
   "codemirror_mode": {
    "name": "ipython",
    "version": 3
   },
   "file_extension": ".py",
   "mimetype": "text/x-python",
   "name": "python",
   "nbconvert_exporter": "python",
   "pygments_lexer": "ipython3",
   "version": "3.11.5"
  },
  "orig_nbformat": 4
 },
 "nbformat": 4,
 "nbformat_minor": 2
}

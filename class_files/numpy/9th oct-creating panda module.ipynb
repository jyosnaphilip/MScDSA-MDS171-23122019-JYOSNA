{
 "cells": [
  {
   "cell_type": "code",
   "execution_count": 3,
   "metadata": {},
   "outputs": [],
   "source": [
    "class pandas_jyosna:\n",
    "    def __init__(self):\n",
    "        self.fileContent=[]\n",
    "        self.columns=\"\"\n",
    "\n",
    "    \n",
    "    def read_csv(self,fileName):\n",
    "        test=open(fileName,\"r+\")\n",
    "        self.columns=test.readline()\n",
    "        self.fileContent=test.readlines()\n",
    "        test.close()   \n",
    "    def head(self,n):\n",
    "        column_list=self.columns.split(\",\")\n",
    "\n",
    "        for j in column_list:\n",
    "            print(j,end=\"\\t\\t\")\n",
    "        print(\"\")\n",
    "        temp=self.fileContent[:n]\n",
    "        for i in temp:\n",
    "            sentence=i.strip().split(\",\")\n",
    "            for word in sentence:\n",
    "                print(word.ljust(15,\" \"),end=\" \")\n",
    "            print(\"\")\n",
    "    def tail(self,num):\n",
    "        file_length=len(self.fileContent)\n",
    "\n",
    "        for item in self.fileContent[file_length-num:]:\n",
    "            for word in item.strip().split(\",\"):\n",
    "                if len(word)>6:\n",
    "                    print(word,end=\"\\t\")\n",
    "                else:\n",
    "                    print(word,end=\"\\t\\t\")\n",
    "\n",
    "            print(\"\")\n",
    "           "
   ]
  },
  {
   "cell_type": "code",
   "execution_count": 4,
   "metadata": {},
   "outputs": [
    {
     "name": "stdout",
     "output_type": "stream",
     "text": [
      "Date\t\tOpen\t\tHigh\t\tLow\t\tClose\t\tAdj Close\t\tVolume\n",
      "\t\t\n",
      "2014-09-29      100.589996      100.690002      98.040001       99.620003       93.514290       142718700       \n",
      "2014-10-06      99.949997       102.379997      98.309998       100.730003      94.556244       280258200       \n",
      "2014-10-13      101.330002      101.779999      95.180000       97.669998       91.683792       358539800       \n",
      "2014-10-20      98.320000       105.489998      98.220001       105.220001      98.771042       358532900       \n",
      "2014-10-27      104.849998      108.040001      104.699997      108.000000      101.380676      220230600       \n",
      "2014-11-03      108.220001      110.300003      107.720001      109.010002      102.328766      199952900       \n",
      "2014-11-10      109.019997      114.190002      108.400002      114.180000      107.646675      205166700       \n",
      "2014-11-17      114.269997      117.570000      113.300003      116.470001      109.805626      233414700       \n",
      "**********\n",
      "2018-02-19\t172.050003\t175.649994\t171.009995\t175.500000\t175.500000\t136206400\t\n",
      "2018-02-26\t176.350006\t180.619995\t172.449997\t176.210007\t176.210007\t202128400\t\n",
      "2018-03-05\t175.210007\t180.000000\t174.270004\t179.979996\t179.979996\t139852700\t\n",
      "2018-03-12\t180.289993\t183.500000\t177.619995\t178.020004\t178.020004\t155417500\t\n",
      "2018-03-19\t177.320007\t177.470001\t164.940002\t164.940002\t164.940002\t172670700\t\n",
      "2018-03-26\t168.070007\t175.149994\t165.190002\t167.779999\t167.779999\t157898400\t\n",
      "2018-03-29\t167.804993\t171.750000\t166.899994\t167.779999\t167.779999\t38398505\t\n"
     ]
    }
   ],
   "source": [
    "test_file=pandas_jyosna()\n",
    "test_file.read_csv(\"AAPL.csv\")\n",
    "test_file.head(8)\n",
    "print(\"*\"*10)\n",
    "test_file.tail(7)"
   ]
  },
  {
   "cell_type": "code",
   "execution_count": 11,
   "metadata": {},
   "outputs": [
    {
     "ename": "UnicodeDecodeError",
     "evalue": "'charmap' codec can't decode byte 0x81 in position 1436: character maps to <undefined>",
     "output_type": "error",
     "traceback": [
      "\u001b[1;31m---------------------------------------------------------------------------\u001b[0m",
      "\u001b[1;31mUnicodeDecodeError\u001b[0m                        Traceback (most recent call last)",
      "\u001b[1;32mc:\\Users\\jyosn\\Desktop\\programming-with-python-class-files\\programming-with-python-class-files\\numpy\\9th oct-creating panda module.ipynb Cell 3\u001b[0m line \u001b[0;36m2\n\u001b[0;32m      <a href='vscode-notebook-cell:/c%3A/Users/jyosn/Desktop/programming-with-python-class-files/programming-with-python-class-files/numpy/9th%20oct-creating%20panda%20module.ipynb#W2sZmlsZQ%3D%3D?line=0'>1</a>\u001b[0m test2\u001b[39m=\u001b[39mpandas_jyosna()\n\u001b[1;32m----> <a href='vscode-notebook-cell:/c%3A/Users/jyosn/Desktop/programming-with-python-class-files/programming-with-python-class-files/numpy/9th%20oct-creating%20panda%20module.ipynb#W2sZmlsZQ%3D%3D?line=1'>2</a>\u001b[0m test2\u001b[39m.\u001b[39;49mread_csv(\u001b[39m\"\u001b[39;49m\u001b[39mairport_tsv.txt\u001b[39;49m\u001b[39m\"\u001b[39;49m)\n\u001b[0;32m      <a href='vscode-notebook-cell:/c%3A/Users/jyosn/Desktop/programming-with-python-class-files/programming-with-python-class-files/numpy/9th%20oct-creating%20panda%20module.ipynb#W2sZmlsZQ%3D%3D?line=2'>3</a>\u001b[0m \u001b[39m#probem when links are included,cant be read due to special characters\u001b[39;00m\n",
      "\u001b[1;32mc:\\Users\\jyosn\\Desktop\\programming-with-python-class-files\\programming-with-python-class-files\\numpy\\9th oct-creating panda module.ipynb Cell 3\u001b[0m line \u001b[0;36m1\n\u001b[0;32m      <a href='vscode-notebook-cell:/c%3A/Users/jyosn/Desktop/programming-with-python-class-files/programming-with-python-class-files/numpy/9th%20oct-creating%20panda%20module.ipynb#W2sZmlsZQ%3D%3D?line=7'>8</a>\u001b[0m test\u001b[39m=\u001b[39m\u001b[39mopen\u001b[39m(fileName,\u001b[39m\"\u001b[39m\u001b[39mr+\u001b[39m\u001b[39m\"\u001b[39m)\n\u001b[0;32m      <a href='vscode-notebook-cell:/c%3A/Users/jyosn/Desktop/programming-with-python-class-files/programming-with-python-class-files/numpy/9th%20oct-creating%20panda%20module.ipynb#W2sZmlsZQ%3D%3D?line=8'>9</a>\u001b[0m \u001b[39mself\u001b[39m\u001b[39m.\u001b[39mcolumns\u001b[39m=\u001b[39mtest\u001b[39m.\u001b[39mreadline()\n\u001b[1;32m---> <a href='vscode-notebook-cell:/c%3A/Users/jyosn/Desktop/programming-with-python-class-files/programming-with-python-class-files/numpy/9th%20oct-creating%20panda%20module.ipynb#W2sZmlsZQ%3D%3D?line=9'>10</a>\u001b[0m \u001b[39mself\u001b[39m\u001b[39m.\u001b[39mfileContent\u001b[39m=\u001b[39mtest\u001b[39m.\u001b[39;49mreadlines()\n\u001b[0;32m     <a href='vscode-notebook-cell:/c%3A/Users/jyosn/Desktop/programming-with-python-class-files/programming-with-python-class-files/numpy/9th%20oct-creating%20panda%20module.ipynb#W2sZmlsZQ%3D%3D?line=10'>11</a>\u001b[0m test\u001b[39m.\u001b[39mclose()\n",
      "File \u001b[1;32mc:\\Users\\jyosn\\AppData\\Local\\Programs\\Python\\Python311\\Lib\\encodings\\cp1252.py:23\u001b[0m, in \u001b[0;36mIncrementalDecoder.decode\u001b[1;34m(self, input, final)\u001b[0m\n\u001b[0;32m     22\u001b[0m \u001b[39mdef\u001b[39;00m \u001b[39mdecode\u001b[39m(\u001b[39mself\u001b[39m, \u001b[39minput\u001b[39m, final\u001b[39m=\u001b[39m\u001b[39mFalse\u001b[39;00m):\n\u001b[1;32m---> 23\u001b[0m     \u001b[39mreturn\u001b[39;00m codecs\u001b[39m.\u001b[39mcharmap_decode(\u001b[39minput\u001b[39m,\u001b[39mself\u001b[39m\u001b[39m.\u001b[39merrors,decoding_table)[\u001b[39m0\u001b[39m]\n",
      "\u001b[1;31mUnicodeDecodeError\u001b[0m: 'charmap' codec can't decode byte 0x81 in position 1436: character maps to <undefined>"
     ]
    }
   ],
   "source": [
    "test2=pandas_jyosna()\n",
    "test2.read_csv(\"airport_tsv.txt\")\n",
    "#probem when links are included,cant be read due to special characters"
   ]
  },
  {
   "cell_type": "code",
   "execution_count": null,
   "metadata": {},
   "outputs": [],
   "source": []
  }
 ],
 "metadata": {
  "kernelspec": {
   "display_name": "Python 3",
   "language": "python",
   "name": "python3"
  },
  "language_info": {
   "codemirror_mode": {
    "name": "ipython",
    "version": 3
   },
   "file_extension": ".py",
   "mimetype": "text/x-python",
   "name": "python",
   "nbconvert_exporter": "python",
   "pygments_lexer": "ipython3",
   "version": "3.11.5"
  }
 },
 "nbformat": 4,
 "nbformat_minor": 2
}

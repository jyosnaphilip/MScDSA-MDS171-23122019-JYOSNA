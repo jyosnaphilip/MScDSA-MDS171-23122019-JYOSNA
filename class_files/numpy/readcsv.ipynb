{
 "cells": [
  {
   "cell_type": "markdown",
   "metadata": {},
   "source": [
    "write a python program that will read a csv file and print the mean median mode for a column of user choice"
   ]
  },
  {
   "cell_type": "code",
   "execution_count": 6,
   "metadata": {},
   "outputs": [
    {
     "name": "stdout",
     "output_type": "stream",
     "text": [
      "number of columns: 7\n"
     ]
    },
    {
     "ename": "ValueError",
     "evalue": "invalid literal for int() with base 10: '98.040001'",
     "output_type": "error",
     "traceback": [
      "\u001b[1;31m---------------------------------------------------------------------------\u001b[0m",
      "\u001b[1;31mValueError\u001b[0m                                Traceback (most recent call last)",
      "\u001b[1;32mc:\\Users\\jyosn\\Desktop\\programming-with-python-class-files\\programming-with-python-class-files\\numpy\\readcsv.ipynb Cell 2\u001b[0m line \u001b[0;36m1\n\u001b[0;32m      <a href='vscode-notebook-cell:/c%3A/Users/jyosn/Desktop/programming-with-python-class-files/programming-with-python-class-files/numpy/readcsv.ipynb#W1sZmlsZQ%3D%3D?line=8'>9</a>\u001b[0m \u001b[39mfor\u001b[39;00m sentence \u001b[39min\u001b[39;00m contents:\n\u001b[0;32m     <a href='vscode-notebook-cell:/c%3A/Users/jyosn/Desktop/programming-with-python-class-files/programming-with-python-class-files/numpy/readcsv.ipynb#W1sZmlsZQ%3D%3D?line=9'>10</a>\u001b[0m     words\u001b[39m=\u001b[39msentence\u001b[39m.\u001b[39mstrip()\u001b[39m.\u001b[39msplit(\u001b[39m'\u001b[39m\u001b[39m,\u001b[39m\u001b[39m'\u001b[39m)\n\u001b[1;32m---> <a href='vscode-notebook-cell:/c%3A/Users/jyosn/Desktop/programming-with-python-class-files/programming-with-python-class-files/numpy/readcsv.ipynb#W1sZmlsZQ%3D%3D?line=10'>11</a>\u001b[0m     col_contents\u001b[39m.\u001b[39mappend(\u001b[39mint\u001b[39;49m(words[user_choice\u001b[39m-\u001b[39;49m\u001b[39m1\u001b[39;49m]))\n\u001b[0;32m     <a href='vscode-notebook-cell:/c%3A/Users/jyosn/Desktop/programming-with-python-class-files/programming-with-python-class-files/numpy/readcsv.ipynb#W1sZmlsZQ%3D%3D?line=11'>12</a>\u001b[0m length\u001b[39m=\u001b[39m\u001b[39mlen\u001b[39m(col_contents)\n\u001b[0;32m     <a href='vscode-notebook-cell:/c%3A/Users/jyosn/Desktop/programming-with-python-class-files/programming-with-python-class-files/numpy/readcsv.ipynb#W1sZmlsZQ%3D%3D?line=12'>13</a>\u001b[0m \u001b[39mif\u001b[39;00m length\u001b[39m==\u001b[39m\u001b[39m0\u001b[39m:\n",
      "\u001b[1;31mValueError\u001b[0m: invalid literal for int() with base 10: '98.040001'"
     ]
    }
   ],
   "source": [
    "with open(\"AAPL.csv\",\"r+\") as file:\n",
    "    first_line=file.readline()\n",
    "    contents=file.readlines()\n",
    "column=first_line.strip().split(\",\")\n",
    "column_num=len(column)\n",
    "print(\"number of columns:\",column_num)\n",
    "user_choice=int(input(\"Enter your column choice:\"))\n",
    "col_contents=[]\n",
    "for sentence in contents:\n",
    "    words=sentence.strip().split(',')\n",
    "    col_contents.append(int(words[user_choice-1]))\n",
    "length=len(col_contents)\n",
    "if length==0:\n",
    "    print(\"given column contains no numeric values\")\n",
    "    mean=0\n",
    "    median=0\n",
    "    mode=0\n",
    "else:\n",
    "    mean=sum(col_contents)/length\n",
    "\n",
    "    col_contents.sort()\n",
    "\n",
    "\n",
    "    if length%2==0:\n",
    "        median=(col_contents[float(length/2)]+col_contents[((length/2)+1)])/2\n",
    "    else:\n",
    "        median=col_contents[int((length+1)/2)]\n",
    "    col_set=set(col_contents)\n",
    "    count=0\n",
    "    maxcount=[0,0]\n",
    "    for elmnt in col_set:\n",
    "        count=0\n",
    "        for item in col_contents:\n",
    "            if elmnt==item:\n",
    "                count+=1\n",
    "        if count>maxcount[0]:\n",
    "            maxcount[0]=count\n",
    "            maxcount[1]=elmnt\n",
    "    print(\"Mean:\",mean)\n",
    "    print(\"median:\",median)\n",
    "    print(\"mode:\",maxcount[1])\n",
    "    \n",
    "\n",
    "\n",
    "\n",
    "\n",
    "\n",
    "\n"
   ]
  },
  {
   "cell_type": "code",
   "execution_count": null,
   "metadata": {},
   "outputs": [],
   "source": []
  }
 ],
 "metadata": {
  "kernelspec": {
   "display_name": "Python 3",
   "language": "python",
   "name": "python3"
  },
  "language_info": {
   "codemirror_mode": {
    "name": "ipython",
    "version": 3
   },
   "file_extension": ".py",
   "mimetype": "text/x-python",
   "name": "python",
   "nbconvert_exporter": "python",
   "pygments_lexer": "ipython3",
   "version": "3.11.5"
  }
 },
 "nbformat": 4,
 "nbformat_minor": 2
}

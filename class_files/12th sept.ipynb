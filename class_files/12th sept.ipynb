{
 "cells": [
  {
   "cell_type": "code",
   "execution_count": null,
   "metadata": {},
   "outputs": [],
   "source": []
  },
  {
   "cell_type": "markdown",
   "metadata": {},
   "source": [
    "dictionary"
   ]
  },
  {
   "cell_type": "code",
   "execution_count": 1,
   "metadata": {},
   "outputs": [],
   "source": [
    "mscdsa=[\n",
    "{\n",
    "    \"roll no\": 23122019,\n",
    "    \"name\": \"Abhidev\",\n",
    "    \"phone\":808911882,\n",
    "    \"email\":\"abhidev@christuniversity.in\"\n",
    "},\n",
    "{\n",
    "    \"roll no\": 23122001,\n",
    "    \"name\":\"jyosna\",\n",
    "    \"phone\":822345678,\n",
    "    \"email\":\"jyosna.p@christuniversity.in\"\n",
    "},\n",
    "{\n",
    "    \"roll no\": 23122001,\n",
    "    \"name\":\"jyosna\",\n",
    "    \"phone\":822345678,\n",
    "    \"email\":\"jyosna.p@christuniversity.in\"\n",
    " }\n",
    " ]\n"
   ]
  },
  {
   "cell_type": "markdown",
   "metadata": {},
   "source": [
    "aim:to make a table out of the above thing"
   ]
  },
  {
   "cell_type": "code",
   "execution_count": 2,
   "metadata": {},
   "outputs": [
    {
     "name": "stdout",
     "output_type": "stream",
     "text": [
      "roll no\t\tname\t\tphone\t\temail\t\t\n",
      "\n",
      "23122019\tAbhidev\t808911882\tabhidev@christuniversity.in\t\n",
      "\n",
      "23122001\tjyosna\t822345678\tjyosna.p@christuniversity.in\t\n",
      "\n",
      "23122001\tjyosna\t822345678\tjyosna.p@christuniversity.in\t\n",
      "\n"
     ]
    }
   ],
   "source": [
    "for student in mscdsa[0]:\n",
    "    print(student,end=\"\\t\\t\")\n",
    "print(\"\\n\")\n",
    "    \n",
    "\n",
    "for student in mscdsa:\n",
    "    for key in student:\n",
    "        print(student[key],end=\"\\t\")\n",
    "    print(\"\\n\")\n"
   ]
  },
  {
   "cell_type": "code",
   "execution_count": null,
   "metadata": {},
   "outputs": [],
   "source": []
  }
 ],
 "metadata": {
  "kernelspec": {
   "display_name": "Python 3",
   "language": "python",
   "name": "python3"
  },
  "language_info": {
   "codemirror_mode": {
    "name": "ipython",
    "version": 3
   },
   "file_extension": ".py",
   "mimetype": "text/x-python",
   "name": "python",
   "nbconvert_exporter": "python",
   "pygments_lexer": "ipython3",
   "version": "3.11.5"
  },
  "orig_nbformat": 4
 },
 "nbformat": 4,
 "nbformat_minor": 2
}

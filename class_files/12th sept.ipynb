{
 "cells": [
  {
   "cell_type": "markdown",
   "metadata": {},
   "source": [
    "dictionary"
   ]
  },
  {
   "cell_type": "code",
   "execution_count": 2,
   "metadata": {},
   "outputs": [],
   "source": [
    "mscdsa=[\n",
    "{\n",
    "    \"roll no\": 23122019,\n",
    "    \"name\": \"Abhidev\",\n",
    "    \"phone\":808911882,\n",
    "    \"email\":\"abhidev@christuniversity.in\"\n",
    "},\n",
    "{\n",
    "    \"roll no\": 23122001,\n",
    "    \"name\":\"jyosna\",\n",
    "    \"phone\":822345678,\n",
    "    \"email\":\"jyosna.p@christuniversity.in\"\n",
    "},\n",
    "{\n",
    "    \"roll no\": 23122001,\n",
    "    \"name\":\"jyosna\",\n",
    "    \"phone\":822345678,\n",
    "    \"email\":\"jyosna.p@christuniversity.in\"\n",
    " }\n",
    " ]\n"
   ]
  },
  {
   "cell_type": "code",
   "execution_count": 3,
   "metadata": {},
   "outputs": [
    {
     "data": {
      "text/html": [
       "<div>\n",
       "<style scoped>\n",
       "    .dataframe tbody tr th:only-of-type {\n",
       "        vertical-align: middle;\n",
       "    }\n",
       "\n",
       "    .dataframe tbody tr th {\n",
       "        vertical-align: top;\n",
       "    }\n",
       "\n",
       "    .dataframe thead th {\n",
       "        text-align: right;\n",
       "    }\n",
       "</style>\n",
       "<table border=\"1\" class=\"dataframe\">\n",
       "  <thead>\n",
       "    <tr style=\"text-align: right;\">\n",
       "      <th></th>\n",
       "      <th>roll no</th>\n",
       "      <th>name</th>\n",
       "      <th>phone</th>\n",
       "      <th>email</th>\n",
       "    </tr>\n",
       "  </thead>\n",
       "  <tbody>\n",
       "    <tr>\n",
       "      <th>0</th>\n",
       "      <td>23122019</td>\n",
       "      <td>Abhidev</td>\n",
       "      <td>808911882</td>\n",
       "      <td>abhidev@christuniversity.in</td>\n",
       "    </tr>\n",
       "    <tr>\n",
       "      <th>1</th>\n",
       "      <td>23122001</td>\n",
       "      <td>jyosna</td>\n",
       "      <td>822345678</td>\n",
       "      <td>jyosna.p@christuniversity.in</td>\n",
       "    </tr>\n",
       "    <tr>\n",
       "      <th>2</th>\n",
       "      <td>23122001</td>\n",
       "      <td>jyosna</td>\n",
       "      <td>822345678</td>\n",
       "      <td>jyosna.p@christuniversity.in</td>\n",
       "    </tr>\n",
       "  </tbody>\n",
       "</table>\n",
       "</div>"
      ],
      "text/plain": [
       "    roll no     name      phone                         email\n",
       "0  23122019  Abhidev  808911882   abhidev@christuniversity.in\n",
       "1  23122001   jyosna  822345678  jyosna.p@christuniversity.in\n",
       "2  23122001   jyosna  822345678  jyosna.p@christuniversity.in"
      ]
     },
     "execution_count": 3,
     "metadata": {},
     "output_type": "execute_result"
    }
   ],
   "source": [
    "import pandas as pd\n",
    "df=pd.DataFrame(mscdsa)\n",
    "df"
   ]
  },
  {
   "cell_type": "markdown",
   "metadata": {},
   "source": [
    "aim:to make a table out of the above thing"
   ]
  },
  {
   "cell_type": "code",
   "execution_count": 2,
   "metadata": {},
   "outputs": [
    {
     "name": "stdout",
     "output_type": "stream",
     "text": [
      "roll no\t\tname\t\tphone\t\temail\t\t\n",
      "\n",
      "23122019\tAbhidev\t808911882\tabhidev@christuniversity.in\t\n",
      "\n",
      "23122001\tjyosna\t822345678\tjyosna.p@christuniversity.in\t\n",
      "\n",
      "23122001\tjyosna\t822345678\tjyosna.p@christuniversity.in\t\n",
      "\n"
     ]
    }
   ],
   "source": [
    "for student in mscdsa[0]:\n",
    "    print(student,end=\"\\t\\t\")\n",
    "print(\"\\n\")\n",
    "    \n",
    "\n",
    "for student in mscdsa:\n",
    "    for key in student:\n",
    "        print(student[key],end=\"\\t\")\n",
    "    print(\"\\n\")\n"
   ]
  },
  {
   "cell_type": "code",
   "execution_count": null,
   "metadata": {},
   "outputs": [],
   "source": []
  }
 ],
 "metadata": {
  "kernelspec": {
   "display_name": "Python 3",
   "language": "python",
   "name": "python3"
  },
  "language_info": {
   "codemirror_mode": {
    "name": "ipython",
    "version": 3
   },
   "file_extension": ".py",
   "mimetype": "text/x-python",
   "name": "python",
   "nbconvert_exporter": "python",
   "pygments_lexer": "ipython3",
   "version": "3.11.5"
  },
  "orig_nbformat": 4
 },
 "nbformat": 4,
 "nbformat_minor": 2
}

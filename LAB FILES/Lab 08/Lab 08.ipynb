{
 "cells": [
  {
   "cell_type": "markdown",
   "metadata": {},
   "source": [
    "Lab 08: Matrix calculator"
   ]
  },
  {
   "cell_type": "code",
   "execution_count": 3,
   "metadata": {},
   "outputs": [],
   "source": [
    "\n",
    "result_matrix=[]\n",
    "dict_matrix={} \n",
    "matrix=[]\n",
    "\n"
   ]
  },
  {
   "cell_type": "code",
   "execution_count": 4,
   "metadata": {},
   "outputs": [],
   "source": [
    "def get_row(i,q):\n",
    "    \n",
    "    row=input(\"enter elements in row {} separated by coma.\".format(i))\n",
    "    row_str_lst=row.strip().split(\",\")\n",
    "    if len(row_str_lst)!=q:\n",
    "        print(\"there should be {} elements in a row\".format(q))\n",
    "        print(\"enter row {} from the beginning\".format(i))\n",
    "        get_row(i,q)\n",
    "    else:\n",
    "        row_lst=[]\n",
    "        for j in row_str_lst:\n",
    "            row_lst.append(int(j))\n",
    "        \n",
    "        return row_lst\n",
    " "
   ]
  },
  {
   "cell_type": "code",
   "execution_count": 5,
   "metadata": {},
   "outputs": [],
   "source": [
    "def get_matrix1():\n",
    "    global matrix1\n",
    "    matrix1=[]\n",
    "    dim=input(\"enter the dimension of matrix1 separated by comma:\")\n",
    "    dim_lst=dim.strip().split(\",\")\n",
    "    if len(dim_lst)!=2:                         #when split is applied if they entered row and column number,then list will have two elements\n",
    "        print(\"dimension requires 2 values\")\n",
    "        return False\n",
    "    else:\n",
    "        global n\n",
    "        m=int(dim_lst[0])   #assigning dimensions to variables\n",
    "        n=int(dim_lst[1])\n",
    "        for i in range(1,m+1):     #starting from 1 because i to be used in numbering rows in the user output\n",
    "            matrix1.append(get_row(i,n))\n",
    "\n",
    "        dict_matrix[\"matrix 1\"]=matrix1\n",
    "        return True\n"
   ]
  },
  {
   "cell_type": "code",
   "execution_count": 6,
   "metadata": {},
   "outputs": [],
   "source": [
    "def get_matrix2(n):\n",
    "    global matrix2\n",
    "    matrix2=[]\n",
    "    dim2=input(\"enter the dimension of matrix2 separated by comma:\")\n",
    "    dim_lst2=dim2.strip().split(\",\")\n",
    "    if len(dim_lst2)!=2:\n",
    "        print(\"dimension requires 2 values\")\n",
    "        return False\n",
    "    else:\n",
    "        p=int(dim_lst2[0])\n",
    "        q=int(dim_lst2[1])\n",
    "        if p!=n:\n",
    "            print(\"multiplication not possible with the given dimensions, matrix 2 must have {} rows\".format(n))\n",
    "            return False\n",
    "        else:\n",
    "            for i in range(1,p+1):\n",
    "                matrix2.append(get_row(i,q))\n",
    "\n",
    "            dict_matrix[\"matrix 2\"]=matrix2\n",
    "            return True"
   ]
  },
  {
   "cell_type": "code",
   "execution_count": 7,
   "metadata": {},
   "outputs": [],
   "source": [
    "def calculate(matrixa,matrixb,m,n,p,q):\n",
    "    \n",
    "    if n==p :\n",
    "        \n",
    "        for i in range(m):   \n",
    "            sol_row=[]  #to store row elements\n",
    "            for j in range(q):\n",
    "                store=0       #for calculating each element in row         \n",
    "                for k in range(n):\n",
    "                    store+=(matrixa[i][k])*(matrixb[k][j])\n",
    "                sol_row.append(store) \n",
    "            result_matrix.append(sol_row)   #each row gets added to matix\n",
    "        dict_matrix[\"result matrix\"]=result_matrix\n",
    "\n",
    "    else:\n",
    "        print(\"cant multiply matrices with the given dimensions! \")\n",
    "        \n"
   ]
  },
  {
   "cell_type": "code",
   "execution_count": 8,
   "metadata": {},
   "outputs": [],
   "source": [
    "def store_inFile():\n",
    "    with open(\"Matrix Calculation.csv\",\"w+\") as file:\n",
    "            for i in dict_matrix.items():\n",
    "                file.write(str(i[0])+\",\"+str(i[1])+\"\\n\")\n"
   ]
  },
  {
   "cell_type": "code",
   "execution_count": 9,
   "metadata": {},
   "outputs": [
    {
     "name": "stdout",
     "output_type": "stream",
     "text": [
      "1.enter matrix 1\n",
      "2.enter matrix 2\n",
      "3.calculate\n",
      "4.Export to file\n",
      "5.exit\n",
      "1.enter matrix 1\n",
      "2.enter matrix 2\n",
      "3.calculate\n",
      "4.Export to file\n",
      "5.exit\n",
      "1.enter matrix 1\n",
      "2.enter matrix 2\n",
      "3.calculate\n",
      "4.Export to file\n",
      "5.exit\n",
      "1.enter matrix 1\n",
      "2.enter matrix 2\n",
      "3.calculate\n",
      "4.Export to file\n",
      "5.exit\n",
      "1.enter matrix 1\n",
      "2.enter matrix 2\n",
      "3.calculate\n",
      "4.Export to file\n",
      "5.exit\n"
     ]
    }
   ],
   "source": [
    "\n",
    "\n",
    "flag_matrix1=False\n",
    "flag_matrix2=False\n",
    "while True:\n",
    "    print(\"1.enter matrix 1\")\n",
    "    print(\"2.enter matrix 2\")\n",
    "    print(\"3.calculate\")\n",
    "    print(\"4.Export to file\")\n",
    "    print(\"5.exit\")\n",
    "    option=int(input(\"enter option\"))\n",
    "    if option==1:\n",
    "        \n",
    "        if (flag_matrix1):\n",
    "            print(\"matrix1 has values already, do you want to overwrite?\")\n",
    "            op=input(\"type y for yes and n for no\")\n",
    "            if op=='y':\n",
    "                matrix.clear()\n",
    "                flag_matrix1=get_matrix1()\n",
    "            else:\n",
    "                exit()\n",
    "        else:\n",
    "            flag_matrix1=get_matrix1()\n",
    "\n",
    "    elif option==2:\n",
    "        if (flag_matrix2):\n",
    "            print(\"matrix2 has values already, do you want to overwrite?\")\n",
    "            op=input(\"type y for yes and n for no\")\n",
    "            if op=='y':\n",
    "                flag_matrix2=get_matrix2(n)\n",
    "            else:\n",
    "                exit()\n",
    "        else:\n",
    "            flag_matrix2=get_matrix2(n)\n",
    "            \n",
    "    elif option==3:\n",
    "        calculate(matrix1,matrix2,len(matrix1),n,len(matrix2),len(matrix2[0]))\n",
    "    elif option==4:\n",
    "        store_inFile()\n",
    "\n",
    "    else:\n",
    "        break\n",
    "\n"
   ]
  }
 ],
 "metadata": {
  "kernelspec": {
   "display_name": "Python 3",
   "language": "python",
   "name": "python3"
  },
  "language_info": {
   "codemirror_mode": {
    "name": "ipython",
    "version": 3
   },
   "file_extension": ".py",
   "mimetype": "text/x-python",
   "name": "python",
   "nbconvert_exporter": "python",
   "pygments_lexer": "ipython3",
   "version": "3.11.5"
  },
  "orig_nbformat": 4
 },
 "nbformat": 4,
 "nbformat_minor": 2
}

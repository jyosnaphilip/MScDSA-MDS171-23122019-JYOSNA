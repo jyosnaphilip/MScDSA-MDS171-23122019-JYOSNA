{
 "cells": [
  {
   "cell_type": "markdown",
   "metadata": {},
   "source": [
    "# Lab 03: The Tale of Numbers' Harmony"
   ]
  },
  {
   "cell_type": "code",
   "execution_count": 14,
   "metadata": {},
   "outputs": [],
   "source": [
    "x=[761, 123, 585, 275, 194, 840, 999, 622, 763, 40, 825, 687, 402, 338, 611, 987, 739, 95, 819, 568, 320, 126, 688, 948, 514, 223, 751, 379, 857, 767, 492, 162, 437, 934, 430, 343, 725, 511, 580, 678, 708, 823, 346, 179, 786, 663, 195, 890, 267, 502, 214, 300, 786, 961, 235, 559, 992, 919, 948, 318, 57, 787, 653, 317, 305, 172, 966, 182, 970, 17, 89, 624, 629, 595, 485, 752, 984, 978, 460, 124, 321, 256, 614, 852, 811, 561, 127, 207, 406, 615, 888, 391, 691, 470, 911, 401, 137, 600, 478, 682]"
   ]
  },
  {
   "cell_type": "code",
   "execution_count": 15,
   "metadata": {},
   "outputs": [
    {
     "name": "stdout",
     "output_type": "stream",
     "text": [
      "mean: 542.94\n",
      "average from inbuilt functions: 542.94\n"
     ]
    }
   ],
   "source": [
    "#fn for mean\n",
    "def avg(t):\n",
    "    s=0   #initialising variables required\n",
    "    count=0\n",
    "    for i in t: \n",
    "        s+=i  #adding each element to s\n",
    "        count+=1   # updating counter\n",
    "    return s/count\n",
    "    \n",
    "print(\"mean:\",avg(x))\n",
    "print(\"average from inbuilt functions:\",sum(x)/len(x))\n",
    "\n",
    "\n",
    "\n",
    "\n"
   ]
  },
  {
   "cell_type": "code",
   "execution_count": 16,
   "metadata": {},
   "outputs": [
    {
     "name": "stdout",
     "output_type": "stream",
     "text": [
      "minimum: 17\n",
      "minimum from inbuilt fn: 17\n"
     ]
    }
   ],
   "source": [
    "#prog for minimum\n",
    "def minm(t):\n",
    "    minm=t[0]\n",
    "    for i in t:\n",
    "        if i<minm:\n",
    "            minm=i\n",
    "    return minm\n",
    "\n",
    "        \n",
    "\n",
    "print(\"minimum:\",minm(x))\n",
    "print(\"minimum from inbuilt fn:\",min(x))\n"
   ]
  },
  {
   "cell_type": "code",
   "execution_count": 17,
   "metadata": {},
   "outputs": [
    {
     "name": "stdout",
     "output_type": "stream",
     "text": [
      "maximum: 999\n",
      "maximum from inbuilt fn: 999\n"
     ]
    }
   ],
   "source": [
    "#prog for max\n",
    "def maxm(t):\n",
    "    maxm=t[0]\n",
    "    for i in t:\n",
    "        if i>maxm:\n",
    "            maxm=i\n",
    "    return maxm\n",
    "print(\"maximum:\",maxm(x))\n",
    "print(\"maximum from inbuilt fn:\",max(x))"
   ]
  },
  {
   "cell_type": "code",
   "execution_count": 18,
   "metadata": {},
   "outputs": [
    {
     "name": "stdout",
     "output_type": "stream",
     "text": [
      "range: 982\n",
      "range using inbuilt: 982\n"
     ]
    }
   ],
   "source": [
    "#prgrm to get range\n",
    "def rng(t):\n",
    "    min=minm(t)\n",
    "    max=maxm(t)\n",
    "    \n",
    "    rng=max-min\n",
    "    return rng\n",
    "print(\"range:\",rng(x))\n",
    "print(\"range using inbuilt:\",max(x)-min(x))\n",
    "\n",
    "    "
   ]
  },
  {
   "cell_type": "code",
   "execution_count": 24,
   "metadata": {},
   "outputs": [
    {
     "name": "stdout",
     "output_type": "stream",
     "text": [
      "[17, 40, 57, 89, 95, 123, 124, 126, 127, 137, 162, 172, 179, 182, 194, 195, 207, 214, 223, 235, 256, 267, 275, 300, 305, 317, 318, 320, 321, 338, 343, 346, 379, 391, 401, 402, 406, 430, 437, 460, 470, 478, 485, 492, 502, 511, 514, 559, 561, 568, 580, 585, 595, 600, 611, 614, 615, 622, 624, 629, 653, 663, 678, 682, 687, 688, 691, 708, 725, 739, 751, 752, 761, 763, 767, 786, 786, 787, 811, 819, 823, 825, 840, 852, 857, 888, 890, 911, 919, 934, 948, 948, 961, 966, 970, 978, 984, 987, 992, 999]\n",
      "median: 582.5\n"
     ]
    }
   ],
   "source": [
    "\n",
    "def med(l):\n",
    "    t=0   \n",
    "    #program to sort the list \n",
    "    temp=0\n",
    "    count=0\n",
    "    for i in l: \n",
    "          #adding each element to s\n",
    "        count+=1 \n",
    "\n",
    "    while(t<count):\n",
    "        j=t\n",
    "        while(j<(count)):\n",
    "            if l[t]>l[j]:\n",
    "                temp=l[j]\n",
    "                l[j]=l[t]\n",
    "                l[t]=temp\n",
    "            j+=1\n",
    "        t+=1\n",
    "    print(l)\n",
    "    if (count%2==0):     #for median\n",
    "        h=int(count/2)\n",
    "        h1=h+1\n",
    "        median= (l[h]+l[h1])/2\n",
    "    else:\n",
    "        median=(l[int((count+1)/2)])\n",
    "    return median\n",
    "print(\"median:\",med(x))\n",
    "\n",
    "\n",
    "\n",
    " "
   ]
  },
  {
   "cell_type": "code",
   "execution_count": 26,
   "metadata": {},
   "outputs": [
    {
     "name": "stdout",
     "output_type": "stream",
     "text": [
      "786\n",
      "948\n"
     ]
    }
   ],
   "source": [
    "#program for mode\n",
    "def mode(lst):\n",
    "    d={}\n",
    "    for i in lst:           #storing numbers and their number of occurence as dictionary\n",
    "        if i not in d:\n",
    "            d[i]=1\n",
    "        else:\n",
    "            d[i]+=1\n",
    "    lst1=[]  #storing just the values in a list\n",
    "    for j in d:\n",
    "       lst1.append(d[j]) #program to sort the list \n",
    "    temp=0\n",
    "    t=0\n",
    "    count=0\n",
    "    for i in lst1: \n",
    "        count+=1  \n",
    "    while(t<count):\n",
    "        j=0\n",
    "        while(j<(count-1)):\n",
    "            if lst1[t]<lst1[j]:\n",
    "                temp=lst1[j]\n",
    "                lst1[j]=lst1[t]\n",
    "                lst1[t]=temp\n",
    "            j+=1\n",
    "        t+=1\n",
    "    most=lst1[-1]\n",
    "    \n",
    "    \n",
    "    for j in d:\n",
    "        if d[j]==most:\n",
    "            print(j)\n",
    "\n",
    "    \n",
    "mode(x)\n"
   ]
  },
  {
   "cell_type": "code",
   "execution_count": null,
   "metadata": {},
   "outputs": [],
   "source": []
  }
 ],
 "metadata": {
  "kernelspec": {
   "display_name": "Python 3",
   "language": "python",
   "name": "python3"
  },
  "language_info": {
   "codemirror_mode": {
    "name": "ipython",
    "version": 3
   },
   "file_extension": ".py",
   "mimetype": "text/x-python",
   "name": "python",
   "nbconvert_exporter": "python",
   "pygments_lexer": "ipython3",
   "version": "3.11.5"
  },
  "orig_nbformat": 4
 },
 "nbformat": 4,
 "nbformat_minor": 2
}

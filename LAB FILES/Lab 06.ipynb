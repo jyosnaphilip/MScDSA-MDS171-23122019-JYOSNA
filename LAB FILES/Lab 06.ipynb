{
 "cells": [
  {
   "cell_type": "markdown",
   "metadata": {},
   "source": [
    "# Lab 06: Vowel counter"
   ]
  },
  {
   "cell_type": "code",
   "execution_count": 30,
   "metadata": {},
   "outputs": [],
   "source": [
    "def vowelcounter():                              \n",
    "    s=input(\"enter a string:\")\n",
    "    print(\"string:\",s)                                         #printing s to see inputs used\n",
    "    s=s.lower()                                #converting to lowercase to make counting easier\n",
    "    l=len(s)     #get length of string\n",
    "    for i in s:\n",
    "        if (i=='a' or i=='e' or i=='i' or i=='o' or i=='u'): #if atleast one vowel exists, then we try to count vowels\n",
    "            a=s.count(\"a\")                           \n",
    "            e=s.count(\"e\")         #count fn to count each vowel\n",
    "            i=s.count('i')\n",
    "            o=s.count('o')\n",
    "            u=s.count('u')\n",
    "            break             #once everything is counted, exit loop \n",
    "    v=a+e+i+o+u\n",
    "    print(\"Total count of vowels:\",v,\"\\n\")\n",
    "    print(\"Vowel\\t| Count\")\n",
    "    print(\"a\\t|\",a)\n",
    "    print(\"e\\t|\",e)\n",
    "    print(\"i\\t|\",i)\n",
    "    print(\"o\\t|\",o)\n",
    "    print(\"u\\t|\",u)\n",
    "    print(\"Percentage of vowels in the string:{}%\".format((v/l)*100))"
   ]
  },
  {
   "cell_type": "code",
   "execution_count": 31,
   "metadata": {},
   "outputs": [
    {
     "name": "stdout",
     "output_type": "stream",
     "text": [
      "string: she sells seashells on the seashore      \"\"123\n",
      "Total count of vowels: 11 \n",
      "\n",
      "Vowel\t| Count\n",
      "a\t| 2\n",
      "e\t| 7\n",
      "i\t| 0\n",
      "o\t| 2\n",
      "u\t| 0\n",
      "Percentage of vowels in the string:23.91304347826087%\n"
     ]
    }
   ],
   "source": [
    "vowelcounter()              #test case1"
   ]
  },
  {
   "cell_type": "code",
   "execution_count": 32,
   "metadata": {},
   "outputs": [
    {
     "name": "stdout",
     "output_type": "stream",
     "text": [
      "string: the apple lies far awaty! >>    %\n",
      "Total count of vowels: 8 \n",
      "\n",
      "Vowel\t| Count\n",
      "a\t| 4\n",
      "e\t| 3\n",
      "i\t| 1\n",
      "o\t| 0\n",
      "u\t| 0\n",
      "Percentage of vowels in the string:24.242424242424242%\n"
     ]
    }
   ],
   "source": [
    "vowelcounter()     #test case 2"
   ]
  },
  {
   "cell_type": "code",
   "execution_count": 33,
   "metadata": {},
   "outputs": [
    {
     "name": "stdout",
     "output_type": "stream",
     "text": [
      "string: the most importnat****** part of the world is ignored>>>>      \n",
      "Total count of vowels: 13 \n",
      "\n",
      "Vowel\t| Count\n",
      "a\t| 2\n",
      "e\t| 3\n",
      "i\t| 3\n",
      "o\t| 5\n",
      "u\t| 0\n",
      "Percentage of vowels in the string:20.634920634920633%\n"
     ]
    }
   ],
   "source": [
    "vowelcounter()                 #test case 3"
   ]
  }
 ],
 "metadata": {
  "kernelspec": {
   "display_name": "Python 3",
   "language": "python",
   "name": "python3"
  },
  "language_info": {
   "codemirror_mode": {
    "name": "ipython",
    "version": 3
   },
   "file_extension": ".py",
   "mimetype": "text/x-python",
   "name": "python",
   "nbconvert_exporter": "python",
   "pygments_lexer": "ipython3",
   "version": "3.11.5"
  },
  "orig_nbformat": 4
 },
 "nbformat": 4,
 "nbformat_minor": 2
}

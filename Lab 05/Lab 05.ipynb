{
 "cells": [
  {
   "cell_type": "markdown",
   "metadata": {},
   "source": [
    "# MIX AND MATCH CALCULATOR"
   ]
  },
  {
   "cell_type": "code",
   "execution_count": 3,
   "metadata": {},
   "outputs": [],
   "source": [
    "import random"
   ]
  },
  {
   "cell_type": "code",
   "execution_count": 57,
   "metadata": {},
   "outputs": [],
   "source": [
    "#initialising lists\n",
    "item=[\"rice\",\"bread\",\"apple\",\"shoes\",\"paint\",\"plate\",\"mango\",\"soap\",\"sugar\",\"wheat\"]\n",
    "quantity=[1,3,5,7,9,10,4,14,2,6]\n",
    "price=[23,45,56,76,40,33,41,29,14,21]"
   ]
  },
  {
   "cell_type": "code",
   "execution_count": 58,
   "metadata": {},
   "outputs": [],
   "source": [
    "with open(\"23122019.csv\",\"w+\") as f:                  #opening new file\n",
    "    f.write(\"Item\"+\",\"+\"Quantity\"+\",\"+\"UNIT PRICE\") "
   ]
  },
  {
   "cell_type": "code",
   "execution_count": 59,
   "metadata": {},
   "outputs": [],
   "source": [
    "with open(\"23122019.csv\",\"a+\") as fwrite:   \n",
    "    for i in range(0,100):\n",
    "        r1=random.randint(0,9)                                              #getting random numbers\n",
    "        r2=random.randint(0,9)\n",
    "        r3=random.randint(0,9)\n",
    "        fwrite.write(\"\\n\"+item[r1]+\",\"+str(quantity[r2])+\",\"+str(price[r3]))  #writing to file"
   ]
  },
  {
   "cell_type": "code",
   "execution_count": 69,
   "metadata": {},
   "outputs": [
    {
     "name": "stdout",
     "output_type": "stream",
     "text": [
      "Item     Quantity     UNIT PRICE\tTotal Price\n",
      "sugar\t\t1\t\t14\t\t14\n",
      "sugar\t\t14\t\t45\t\t630\n",
      "paint\t\t14\t\t14\t\t196\n",
      "plate\t\t5\t\t76\t\t380\n",
      "plate\t\t9\t\t56\t\t504\n",
      "apple\t\t14\t\t23\t\t322\n",
      "apple\t\t10\t\t29\t\t290\n",
      "bread\t\t6\t\t33\t\t198\n",
      "soap\t\t3\t\t14\t\t42\n",
      "wheat\t\t14\t\t21\t\t294\n",
      "paint\t\t5\t\t33\t\t165\n",
      "rice\t\t4\t\t23\t\t92\n",
      "sugar\t\t10\t\t41\t\t410\n",
      "apple\t\t1\t\t23\t\t23\n",
      "soap\t\t3\t\t23\t\t69\n"
     ]
    }
   ],
   "source": [
    "#total cost for first 5 and last 10 rows\n",
    "cost_row=[]                                                 #list to store total cost of each item\n",
    "t=0                                                         #counter to track line which is read\n",
    "with open(\"23122019.csv\",\"r+\") as fread:\n",
    "    for i in fread.readlines():\n",
    "        if \"Item\" in i:    #check for 1st line\n",
    "            print(i.strip().replace(\",\",\" \"*5)+\"\\tTotal Price\") #replacing for clean output\n",
    "        else:\n",
    "            store=i.strip().split(\",\")       \n",
    "            cost_row.append(int(store[1])*int(store[2]))        #calculation by typecasting\n",
    "            if(t<5 or 90<=t<100):                           \n",
    "                print(store[0]+\"\\t\\t\"+store[1]+\"\\t\\t\"+store[2]+\"\\t\\t\"+str(cost_row[t]))\n",
    "            t+=1                                                  #increase counter"
   ]
  },
  {
   "cell_type": "code",
   "execution_count": 76,
   "metadata": {},
   "outputs": [],
   "source": [
    "keys=[]   \n",
    "values=[]\n",
    "for i in item:   \n",
    "    keys.append(i)                 #storing item name in key list\n",
    "    values.append([0,[]]) \n",
    "d = dict(zip(keys,values))         #for each key,value is a list having total quantity & prices for item\n",
    "with open(\"23122019.csv\",\"r\") as fanalysis:   \n",
    "    for i in fanalysis.readlines():    \n",
    "        for j in d.keys():         #take each item from key list\n",
    "            if j in i:             #if key present in line,store required info frm line to its value in dict\n",
    "                itemstore=i.strip().split(\",\")\n",
    "                (d[j])[0]+=int(itemstore[1])\n",
    "                (d[j])[1].append(int(itemstore[2]))    "
   ]
  },
  {
   "cell_type": "code",
   "execution_count": 75,
   "metadata": {},
   "outputs": [
    {
     "name": "stdout",
     "output_type": "stream",
     "text": [
      "Item Name|Total Quantity|\tTotal Price\n",
      "rice \t\t 65 \t\t 315\n",
      "bread \t\t 60 \t\t 402\n",
      "apple \t\t 96 \t\t 324\n",
      "shoes \t\t 81 \t\t 336\n",
      "paint \t\t 57 \t\t 334\n",
      "plate \t\t 52 \t\t 357\n",
      "mango \t\t 75 \t\t 310\n",
      "soap \t\t 97 \t\t 454\n",
      "sugar \t\t 52 \t\t 296\n",
      "wheat \t\t 53 \t\t 273\n",
      "rice :\n",
      "minimum price: 14\n",
      "maximum price: 76\n",
      "bread :\n",
      "minimum price: 21\n",
      "maximum price: 76\n",
      "apple :\n",
      "minimum price: 14\n",
      "maximum price: 41\n",
      "shoes :\n",
      "minimum price: 14\n",
      "maximum price: 56\n",
      "paint :\n",
      "minimum price: 14\n",
      "maximum price: 76\n",
      "plate :\n",
      "minimum price: 14\n",
      "maximum price: 76\n",
      "mango :\n",
      "minimum price: 14\n",
      "maximum price: 76\n",
      "soap :\n",
      "minimum price: 14\n",
      "maximum price: 76\n",
      "sugar :\n",
      "minimum price: 14\n",
      "maximum price: 45\n",
      "wheat :\n",
      "minimum price: 21\n",
      "maximum price: 76\n"
     ]
    }
   ],
   "source": [
    "print(\"Item Name|Total Quantity|\\tTotal Price\")  #getting total quantity,price from dict 'd'\n",
    "for key in d:\n",
    "    print(key,\"\\t\\t\",(d[key])[0],\"\\t\\t\",sum((d[key])[1]))\n",
    "for key in d:\n",
    "    print(key,\":\")                               #getting min and max price from dict 'd' values\n",
    "    print(\"minimum price:\",min((d[key])[1]))\n",
    "    print(\"maximum price:\",max((d[key])[1]))"
   ]
  }
 ],
 "metadata": {
  "kernelspec": {
   "display_name": "Python 3",
   "language": "python",
   "name": "python3"
  },
  "language_info": {
   "codemirror_mode": {
    "name": "ipython",
    "version": 3
   },
   "file_extension": ".py",
   "mimetype": "text/x-python",
   "name": "python",
   "nbconvert_exporter": "python",
   "pygments_lexer": "ipython3",
   "version": "3.11.3"
  },
  "orig_nbformat": 4
 },
 "nbformat": 4,
 "nbformat_minor": 2
}

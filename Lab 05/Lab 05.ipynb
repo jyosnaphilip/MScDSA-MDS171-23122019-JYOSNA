{
 "cells": [
  {
   "cell_type": "markdown",
   "metadata": {},
   "source": [
    "# MIX AND MATCH CALCULATOR"
   ]
  },
  {
   "cell_type": "code",
   "execution_count": 56,
   "metadata": {},
   "outputs": [],
   "source": [
    "#import library\n",
    "import random\n"
   ]
  },
  {
   "cell_type": "code",
   "execution_count": 57,
   "metadata": {},
   "outputs": [],
   "source": [
    "#initialising lists\n",
    "item=[\"rice\",\"chocolate\",\"apples\",\"oranges\",\"textbook\",\"plate\",\"mango\",\"shampoo\",\"color pencils\",\"wheat\"]\n",
    "quantity=[1,3,5,7,9,10,4,14,2,6]\n",
    "price=[23,45,56,76,40,33,41,29,14,21]"
   ]
  },
  {
   "cell_type": "code",
   "execution_count": 58,
   "metadata": {},
   "outputs": [],
   "source": [
    "with open(\"23122019.csv\",\"w+\") as f:     #opening new file\n",
    "    f.write(\"Item\"+\",\"+\"Quantity\"+\",\"+\"UnitPrice\"+\",\"+\"Total Price\") #first row"
   ]
  },
  {
   "cell_type": "code",
   "execution_count": 59,
   "metadata": {},
   "outputs": [],
   "source": [
    "with open(\"23122019.csv\",\"a+\") as fwrite:\n",
    "    for i in range(0,100):\n",
    "        r1=random.randint(0,9)\n",
    "        r2=random.randint(0,9)\n",
    "        r3=random.randint(0,9)\n",
    "        fwrite.write(\"\\n\"+item[r1]+\",\"+str(quantity[r2])+\",\"+str(price[r3])+\",\"+str(int(quantity[r2])*int(price[r3])))"
   ]
  },
  {
   "cell_type": "code",
   "execution_count": 61,
   "metadata": {},
   "outputs": [
    {
     "name": "stdout",
     "output_type": "stream",
     "text": [
      "Item,Quantity,UnitPrice,Total Price\n",
      "\n",
      "apples    2    76    152\n",
      "\n",
      "oranges    2    45    90\n",
      "\n",
      "mango    3    33    99\n",
      "\n",
      "apples    14    45    630\n",
      "\n",
      "textbook    4    40    160\n",
      "\n",
      "rice    14    23    322\n",
      "\n",
      "plate    14    21    294\n",
      "\n",
      "color pencils    4    41    164\n",
      "\n",
      "mango    1    56    56\n",
      "\n",
      "shampoo    7    29    203\n"
     ]
    }
   ],
   "source": [
    "#total cost for first 5 and last 10 rows\n",
    "cost_row=[]\n",
    "t=0\n",
    "\n",
    "with open(\"23122019.csv\",\"r+\") as fread:\n",
    "    for i in fread.readlines():\n",
    "        if \"Item\" in i:\n",
    "            print(i)\n",
    "        else:\n",
    "            if(t<5 or 95<=t<100):\n",
    "                store=i.split(\",\")\n",
    "                print(store[0]+\" \"*4+store[1]+\" \"*4+store[2]+\" \"*4+store[3])\n",
    "            t+=1\n",
    "                \n",
    "      \n",
    "        \n"
   ]
  },
  {
   "cell_type": "code",
   "execution_count": null,
   "metadata": {},
   "outputs": [],
   "source": [
    "#total cost for unique item in dataset\n",
    "#open file\n",
    "#file.readlines()\n",
    "#if item[0] in readlines:\n",
    " #split the line and get the quantity and total price\n",
    "#store in new list called quantity_item[0]"
   ]
  }
 ],
 "metadata": {
  "kernelspec": {
   "display_name": "Python 3",
   "language": "python",
   "name": "python3"
  },
  "language_info": {
   "codemirror_mode": {
    "name": "ipython",
    "version": 3
   },
   "file_extension": ".py",
   "mimetype": "text/x-python",
   "name": "python",
   "nbconvert_exporter": "python",
   "pygments_lexer": "ipython3",
   "version": "3.11.3"
  },
  "orig_nbformat": 4
 },
 "nbformat": 4,
 "nbformat_minor": 2
}

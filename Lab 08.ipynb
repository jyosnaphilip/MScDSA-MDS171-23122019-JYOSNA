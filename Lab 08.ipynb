{
 "cells": [
  {
   "cell_type": "markdown",
   "metadata": {},
   "source": [
    "Matrix calculator"
   ]
  },
  {
   "cell_type": "code",
   "execution_count": null,
   "metadata": {},
   "outputs": [],
   "source": [
    "\n",
    "\n",
    "result_matrix=[]\n",
    "dict_keys=[\"matrix 1\",\"matrix 2\",\"result matrix\"]\n",
    "dict_values=[1,2,3]\n",
    "\n",
    "def get_matrix1():\n",
    "    matrix1=[]\n",
    "    dim=input(\"enter the dimension of matrix1 separated by comma:\")\n",
    "    dim_lst=dim.strip().split(\",\")\n",
    "    if len(dim_lst)!=2:\n",
    "        print(\"dimension requires 2 values\")\n",
    "        exit()\n",
    "    else:\n",
    "        m=int(dim_lst[0])\n",
    "        n=int(dim_lst[1])\n",
    "        for i in range(1,m+1):\n",
    "            row=input(\"enter elements in row {} separated by coma.\".format(i))\n",
    "            row_str_lst=row.strip().split(\",\")\n",
    "            if len(row_str_lst)!=n:\n",
    "                print(\"there should be {} elements in a row\".format(n))\n",
    "                print(\"enter matrix 1 from the beginning\")\n",
    "                break\n",
    "            else:\n",
    "                row_lst=[]\n",
    "        \n",
    "                for j in row_str_lst:\n",
    "                    row_lst.append(int(j))\n",
    "                    matrix1.append(row_lst)\n",
    "                dict_values[0]=matrix1\n",
    "\n",
    "    return m,n,matrix1\n",
    "\n",
    "            "
   ]
  },
  {
   "cell_type": "code",
   "execution_count": null,
   "metadata": {},
   "outputs": [],
   "source": [
    "def get_matrix2():\n",
    "    global matrix2=[]\n",
    "    dim2=input(\"enter the dimension of matrix2 separated by comma:\")\n",
    "    dim_lst2=dim2.strip().split(\",\")\n",
    "    if len(dim_lst2)!=2:\n",
    "        print(\"dimension requires 2 values\")\n",
    "        exit()\n",
    "    else:\n",
    "        p=int(dim_lst2[0])\n",
    "        q=int(dim_lst2[1])\n",
    "        for i in range(1,p+1):\n",
    "            row2=input(\"enter elements in row {} separated by coma.\".format(i))\n",
    "            row_str_lst2=row2.strip().split(\",\")\n",
    "            if len(row_str_lst2)!=n:\n",
    "                print(\"there should be {} elements in a row\".format(q))\n",
    "                print(\"enter matrix 1 from the beginning\")\n",
    "                break\n",
    "            else:\n",
    "                row_lst2=[]\n",
    "        \n",
    "                for j in row_str_lst2:\n",
    "                    row_lst2.append(int(j))\n",
    "                matrix2.append(row_lst2)\n",
    "                dict_values[1]=matrix2\n",
    "                return m,n"
   ]
  },
  {
   "cell_type": "code",
   "execution_count": null,
   "metadata": {},
   "outputs": [],
   "source": [
    "print(matrix1)"
   ]
  },
  {
   "cell_type": "code",
   "execution_count": null,
   "metadata": {},
   "outputs": [],
   "source": [
    "def calculate(matrixa,matrixb,m,n,p,q):\n",
    "    if n==p and m==q:\n",
    "        \n",
    "    else:\n",
    "        print(\"cant multiply matrices with the given dimensions! \")\n",
    "\n",
    "    "
   ]
  },
  {
   "cell_type": "code",
   "execution_count": null,
   "metadata": {},
   "outputs": [],
   "source": [
    "print(\"1.enter matrix 1\")\n",
    "print(\"2.enter matrix 2\")\n",
    "print(\"3.calculate\")\n",
    "option=int(input(\"enter option\"))\n",
    "flag_matrix1=False\n",
    "flag_matrix2=False\n",
    "while True:\n",
    "    option=int(input(\"enter option\"))\n",
    "    if option==1:\n",
    "        \n",
    "        if flag_matrix1:\n",
    "            print(\"matrix1 has values already, do you want to overwrite?\")\n",
    "            op=input(\"type y for yes and n for no\")\n",
    "            if op=='y':\n",
    "                m,n=get_matrix1()\n",
    "            else:\n",
    "                exit()\n",
    "        else:\n",
    "            get_matrix1()\n",
    "            flag_matrix1=True\n",
    "\n",
    "    elif option==2:\n",
    "        if flag_matrix2:\n",
    "            print(\"matrix2 has values already, do you want to overwrite?\")\n",
    "            op=input(\"type y for yes and n for no\")\n",
    "            if op=='y':\n",
    "                get_matrix2()\n",
    "            else:\n",
    "                exit()\n",
    "        else:\n",
    "            get_matrix2()\n",
    "            flag_matrix2=True\n",
    "    elif option==3:\n",
    "        \n",
    "    else:\n",
    "        break\n",
    "\n",
    "\n",
    "\n",
    "    \n",
    "   \n",
    "\n"
   ]
  },
  {
   "cell_type": "code",
   "execution_count": null,
   "metadata": {},
   "outputs": [],
   "source": []
  }
 ],
 "metadata": {
  "kernelspec": {
   "display_name": "Python 3",
   "language": "python",
   "name": "python3"
  },
  "language_info": {
   "codemirror_mode": {
    "name": "ipython",
    "version": 3
   },
   "file_extension": ".py",
   "mimetype": "text/x-python",
   "name": "python",
   "nbconvert_exporter": "python",
   "pygments_lexer": "ipython3",
   "version": "3.11.5"
  },
  "orig_nbformat": 4
 },
 "nbformat": 4,
 "nbformat_minor": 2
}

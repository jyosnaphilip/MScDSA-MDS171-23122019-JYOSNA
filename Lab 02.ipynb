{
 "cells": [
  {
   "cell_type": "markdown",
   "metadata": {},
   "source": [
    "# **Lab 02: Name Collector's Quest**"
   ]
  },
  {
   "cell_type": "code",
   "execution_count": null,
   "metadata": {},
   "outputs": [],
   "source": [
    "Harmonyville=[] #defining list\n",
    "#defining function\n",
    "def getname():\n",
    "    name=input(\"enter name:\")    #user input\n",
    "    #validation\n",
    "    if name=='q':      #exit condititon\n",
    "        print(Harmonyville)\n",
    "        return()    #exit function\n",
    "    elif name.isspace():      #checking if there are only spaces\n",
    "        print(\"invalid entry\")\n",
    "        getname()      #ask name again\n",
    "    elif name.isalpha() and name.istitle():  #if input has only alphabets and has title format\n",
    "        for j in Harmonyville:\n",
    "            if name==j:                  #checking for existing value\n",
    "                print(\"name already exists\")\n",
    "                getname()   #ask name again\n",
    "        else:\n",
    "            Harmonyville.append(name)    #appending value\n",
    "            getname()     #ask name again\n",
    "    else:\n",
    "        print(\"invalid entry\")  \n",
    "        getname()   #ask name again\n",
    "    \n",
    "getname() #fn_call\n",
    "\n",
    "def analysis(a):\n",
    "    count=0   #initialised counter\n",
    "    for j in a:\n",
    "        if j.startswith('A'):\n",
    "            count+=1\n",
    "    print(\"number of names starting with letter A:\",count)\n",
    "analysis(Harmonyville)   #fn_call\n",
    "    "
   ]
  },
  {
   "cell_type": "code",
   "execution_count": null,
   "metadata": {},
   "outputs": [],
   "source": []
  }
 ],
 "metadata": {
  "kernelspec": {
   "display_name": "Python 3",
   "language": "python",
   "name": "python3"
  },
  "language_info": {
   "codemirror_mode": {
    "name": "ipython",
    "version": 3
   },
   "file_extension": ".py",
   "mimetype": "text/x-python",
   "name": "python",
   "nbconvert_exporter": "python",
   "pygments_lexer": "ipython3",
   "version": "3.11.3"
  },
  "orig_nbformat": 4
 },
 "nbformat": 4,
 "nbformat_minor": 2
}

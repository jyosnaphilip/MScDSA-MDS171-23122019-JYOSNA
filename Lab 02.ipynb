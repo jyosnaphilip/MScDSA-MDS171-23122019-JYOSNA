{
 "cells": [
  {
   "cell_type": "markdown",
   "metadata": {},
   "source": [
    "# **Lab 02: Name Collector's Quest**"
   ]
  },
  {
   "cell_type": "code",
   "execution_count": 16,
   "metadata": {},
   "outputs": [],
   "source": [
    "Harmonyville=[] #defining list"
   ]
  },
  {
   "cell_type": "code",
   "execution_count": 17,
   "metadata": {},
   "outputs": [],
   "source": [
    "#defining function\n",
    "def getname():\n",
    "    name=input(\"enter name:\")    #user input\n",
    "    #validation\n",
    "    if name=='q':      #exit condititon\n",
    "        print(Harmonyville)\n",
    "        return()  \n",
    "    elif name.isspace():      #checking if there are only spaces\n",
    "        print(\"invalid entry\")\n",
    "        getname()\n",
    "    elif name.isalpha() and name.istitle():  #if input has only alphabets and has title format\n",
    "        for j in Harmonyville:\n",
    "            if name==j:                  #checking for existing value\n",
    "                print(\"name already exists\")\n",
    "                getname()\n",
    "        else:\n",
    "            Harmonyville.append(name)    #appending value\n",
    "            getname()\n",
    "    else:\n",
    "        print(\"invalid entry\")  \n",
    "        getname()\n",
    "    "
   ]
  },
  {
   "cell_type": "code",
   "execution_count": 18,
   "metadata": {},
   "outputs": [
    {
     "name": "stdout",
     "output_type": "stream",
     "text": [
      "['Amrutha', 'Shruthi']\n",
      "None\n"
     ]
    }
   ],
   "source": [
    "getname() #fn_call\n"
   ]
  },
  {
   "cell_type": "code",
   "execution_count": 19,
   "metadata": {},
   "outputs": [
    {
     "name": "stdout",
     "output_type": "stream",
     "text": [
      "['Amrutha', 'Shruthi']\n"
     ]
    }
   ],
   "source": [
    "print(Harmonyville)"
   ]
  },
  {
   "cell_type": "code",
   "execution_count": 22,
   "metadata": {},
   "outputs": [],
   "source": [
    "def analysis(a):\n",
    "    count=0\n",
    "    for j in a:\n",
    "        if j.startswith('A'):\n",
    "            count+=1\n",
    "    print(\"number of names starting with letter A:\",count)"
   ]
  },
  {
   "cell_type": "code",
   "execution_count": 23,
   "metadata": {},
   "outputs": [
    {
     "name": "stdout",
     "output_type": "stream",
     "text": [
      "number of names starting with letter a: 1\n"
     ]
    }
   ],
   "source": [
    "analysis(Harmonyville)\n",
    "    "
   ]
  },
  {
   "cell_type": "code",
   "execution_count": null,
   "metadata": {},
   "outputs": [],
   "source": []
  }
 ],
 "metadata": {
  "kernelspec": {
   "display_name": "Python 3",
   "language": "python",
   "name": "python3"
  },
  "language_info": {
   "codemirror_mode": {
    "name": "ipython",
    "version": 3
   },
   "file_extension": ".py",
   "mimetype": "text/x-python",
   "name": "python",
   "nbconvert_exporter": "python",
   "pygments_lexer": "ipython3",
   "version": "3.11.3"
  },
  "orig_nbformat": 4
 },
 "nbformat": 4,
 "nbformat_minor": 2
}
